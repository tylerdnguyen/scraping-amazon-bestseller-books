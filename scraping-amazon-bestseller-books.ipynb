{
 "cells": [
  {
   "cell_type": "markdown",
   "metadata": {},
   "source": [
    "# Scraping Top Bestseller Book in Amazon Project Using Python\n",
    "\n",
    "**Amazon Bestseller Books** website is a popular website where people can find top popular books. This site contains many genres. In each genre, books are ranked based on rating and the number of buyers. Some genres includes action & adventure, travel, and romance. In general, information of a book contains name, author, rating, number of reviewers, and its URL. They are packed in a tag, and our job is to use function to extract the information from the tag.\n",
    "![](https://hips.hearstapps.com/hmg-prod.s3.amazonaws.com/images/best-selling-books-2020-1607638264.png)\n",
    "\n",
    "**Purpose**: This project showed the method to scrape the information of the bestseller books such as name, author, rating, and URL in each genre in Amazone website: https://www.amazon.in/gp/bestsellers/books/. The information was represented as data frame, and was saved in csv file for each category. To organize easily, a folder was created to contained all the csv files at the final.\n",
    "- During introducing procedure, this project also mentioned tools used such as Python, requests, Beautiful Soup, Pandas..., which were used for scraping the bestseller books in Amazon website\n",
    "![](https://imgur.com/adDRt5p)\n",
    "\n",
    "**Project Outline:**\n",
    "- Scraped Website: https://www.amazon.in/gp/bestsellers/books/\n",
    "- Get a list of genres. For each genre, we'll get the genre name and genre page URL\n",
    "- For each genre, we'll get information of the bestseller books from that genre page.\n",
    "- For each book, we'll get name of the book, author name, rating, and the book's URL.\n",
    "- For example, in action & adventure genre:\n",
    "```\n",
    "Book Name,Author,Rating,URL\r\n",
    "Harry Potter and the Philosopher's Stone,J.K. Rowling,4.7 out of 5 stars,https://www.amazon.in/Harry-Potter-Philosophers-Stone-Rowling-ebook/dp/B019PIOJYU/ref=zg_bs_g_1318158031_d_sccl_1/000-0000000-0000000?psc=1\r\n",
    "THE LION INSIDE,Rachel Bright,4.7 out of 5 stars,https://www.amazon.in/LION-INSIDE-Rachel-Bright/dp/1408349043/ref=zg_bs_g_1318158031_d_sccl_2/000-0000000-0000000?psc=1\r\n",
    "\"THE SILENT PATIENT [Paperback] Michaelides, Alex\",Alex Michaelides,4.5 out of 5 stars,https://www.amazon.in/Silent-Patient-Alex-Michaelides/dp/1409181634/ref=zg_bs_g_1318158031_d_sccl_3/000-0000000-0000000?psc=1\r\n",
    "The Housemaid : An addictive psychological thriller with mind-bending twists,Freida McFadden,4.4 out of 5 stars,https://www.amazon.in/Housemaid-addictive-psychological-thriller-mind-bending/dp/014346115X/ref=zg_bs_g_1318158031_d_sccl_4/000-0000000-0000000?psc=1\r\n",
    "The Hidden Hindu Boxset: The Complete Trilogy | Bestselling Sci-fi Novels by Akshat Gupta,Akshat Gupta,4.5 out of 5 stars,https://www.amazon.in/Hidden-Hindu-Boxset-Akshat-Gupta/dp/0143467352/ref=zg_bs_g_1318158031_d_sccl_5/000-0000000-0000000?psc=1\r\n",
    "The Stationery Shop of Tehran,Marjan Kamali,4.4 out of 5 stars,https://www.amazon.in/Stationery-Shop-Tehran-Marjan-Kamali/dp/147118501X/ref=zg_bs_g_1318158031_d_sccl_6/000-0000000-0000000?psc=1\r\n",
    "Harry Potter and the Chamber of Secrets,J.K. Rowling,4.7 out of 5 stars,https://www.amazon.in/Harry-Potter-Chamber-Secrets-Rowling-ebook/dp/B019PIOJY0/ref=zg_bs_g_1318158031_d_sccl_7/000-0000000-0000000?psc=1\n",
    "```"
   ]
  },
  {
   "cell_type": "markdown",
   "metadata": {},
   "source": [
    "## 1. Scrape the category page from Amazon\n",
    "\n",
    "**Objective:** To obtain the list of book category from the bestseller website and their urls."
   ]
  },
  {
   "cell_type": "markdown",
   "metadata": {},
   "source": [
    "- **Procedure**:\n",
    "    - Use requests to download the Amazone Bestseller page.\n",
    "    - Use BS4 to parse and extract information from each category page (name and url of each category)\n",
    "        - To extract category name and its url, two functions were created: get_category_name(doc) and get_category_url(doc).\n",
    "    - Convert to a pandas dataframe containing name and URL of category page."
   ]
  },
  {
   "cell_type": "markdown",
   "metadata": {},
   "source": [
    "**Install and Import necessary libraries:**"
   ]
  },
  {
   "cell_type": "code",
   "execution_count": 77,
   "metadata": {},
   "outputs": [],
   "source": [
    "import requests\n",
    "import pandas as pd\n",
    "import os\n",
    "from bs4 import BeautifulSoup"
   ]
  },
  {
   "cell_type": "markdown",
   "metadata": {},
   "source": [
    "**Function to download the Bestseller Amazon page:**"
   ]
  },
  {
   "cell_type": "code",
   "execution_count": 78,
   "metadata": {},
   "outputs": [],
   "source": [
    "def get_amazon_page():\n",
    "    #TODO: this function return the book category page\n",
    "    url = 'https://www.amazon.in/gp/bestsellers/books/'\n",
    "    response = requests.get(url)\n",
    "    if response.status_code != 200:\n",
    "        raise Exception('Failed to load page {}'.format(url))\n",
    "    doc = BeautifulSoup(response.text,'html.parser')\n",
    "    return doc"
   ]
  },
  {
   "cell_type": "code",
   "execution_count": 79,
   "metadata": {},
   "outputs": [],
   "source": [
    "doc = get_amazon_page()"
   ]
  },
  {
   "cell_type": "code",
   "execution_count": 80,
   "metadata": {},
   "outputs": [
    {
     "data": {
      "text/plain": [
       "bs4.BeautifulSoup"
      ]
     },
     "execution_count": 80,
     "metadata": {},
     "output_type": "execute_result"
    }
   ],
   "source": [
    "type(doc)"
   ]
  },
  {
   "cell_type": "markdown",
   "metadata": {},
   "source": [
    "**Some helper functions to parse and extract information of each book category page:**"
   ]
  },
  {
   "cell_type": "code",
   "execution_count": 81,
   "metadata": {},
   "outputs": [],
   "source": [
    "def get_category_name(cat_doc):\n",
    "    # Result the name of each category\n",
    "    select_class=\"_p13n-zg-nav-tree-all_style_zg-browse-item__1rdKf _p13n-zg-nav-tree-all_style_zg-browse-height-large__1z5B8\";\n",
    "    class_tags = cat_doc.find_all(class_=select_class)\n",
    "    categories_tag = class_tags[1:]\n",
    "    name_categories = [];\n",
    "    for tag in categories_tag:\n",
    "        name_categories.append(tag.text)\n",
    "    return name_categories"
   ]
  },
  {
   "cell_type": "markdown",
   "metadata": {},
   "source": [
    " `get_category_name()` received the page content. Then it find all tags containing name of the book category, extract, and return the name of each book category."
   ]
  },
  {
   "cell_type": "code",
   "execution_count": 82,
   "metadata": {},
   "outputs": [],
   "source": [
    "def get_category_url(cat_doc):\n",
    "    # Return the url of each category\n",
    "    select_class=\"_p13n-zg-nav-tree-all_style_zg-browse-item__1rdKf _p13n-zg-nav-tree-all_style_zg-browse-height-large__1z5B8\";\n",
    "    class_tags = cat_doc.find_all(class_=select_class)\n",
    "    categories_tag = class_tags[1:]\n",
    "    category_urls = [];\n",
    "    base_url = 'https://www.amazon.in';\n",
    "    for tag in categories_tag:\n",
    "        a_tag = tag.find('a')\n",
    "        category_urls.append(base_url + a_tag['href'])\n",
    "    return category_urls"
   ]
  },
  {
   "cell_type": "markdown",
   "metadata": {},
   "source": [
    " `get_category_url()` finds all tags of categories and extract, and return URL information."
   ]
  },
  {
   "cell_type": "markdown",
   "metadata": {},
   "source": [
    "- **Explain:**\n",
    "    - From the bestseller page, first inspect each category URL, and find the tag represent for each category page.\n",
    "    - to find the name and link of each category, use `find_all` to find all tags that has the `class`: `_p13n-zg-nav-tree-all_style_zg-browse-item__1rdKf _p13n-zg-nav-tree-all_style_zg-browse-height-large__1z5B8`\n",
    "    - to get the name, simply use `.text` for each tag above.\n",
    "    - to get the link, we need to create a loop, for each tag, use `find` to search `a` tag with attribute `href`. Finally, combine with the `base_url: https://www.amazon.in` to form the complete link\n",
    "   \n",
    "![](https://i.imgur.com/URwK9Dy.png)"
   ]
  },
  {
   "cell_type": "markdown",
   "metadata": {},
   "source": [
    "**Results:**"
   ]
  },
  {
   "cell_type": "code",
   "execution_count": 83,
   "metadata": {},
   "outputs": [],
   "source": [
    "book_categories = get_category_name(doc)"
   ]
  },
  {
   "cell_type": "code",
   "execution_count": 84,
   "metadata": {},
   "outputs": [
    {
     "data": {
      "text/plain": [
       "35"
      ]
     },
     "execution_count": 84,
     "metadata": {},
     "output_type": "execute_result"
    }
   ],
   "source": [
    "len(book_categories)"
   ]
  },
  {
   "cell_type": "code",
   "execution_count": 85,
   "metadata": {},
   "outputs": [
    {
     "data": {
      "text/plain": [
       "['Action & Adventure',\n",
       " 'Arts, Film & Photography',\n",
       " 'Biographies, Diaries & True Accounts',\n",
       " 'Business & Economics',\n",
       " \"Children's Books\"]"
      ]
     },
     "execution_count": 85,
     "metadata": {},
     "output_type": "execute_result"
    }
   ],
   "source": [
    "book_categories[:5]"
   ]
  },
  {
   "cell_type": "code",
   "execution_count": 86,
   "metadata": {},
   "outputs": [
    {
     "data": {
      "text/plain": [
       "35"
      ]
     },
     "execution_count": 86,
     "metadata": {},
     "output_type": "execute_result"
    }
   ],
   "source": [
    "category_urls = get_category_url(doc);\n",
    "len(category_urls)"
   ]
  },
  {
   "cell_type": "code",
   "execution_count": 87,
   "metadata": {},
   "outputs": [
    {
     "data": {
      "text/plain": [
       "['https://www.amazon.in/gp/bestsellers/books/1318158031',\n",
       " 'https://www.amazon.in/gp/bestsellers/books/1318052031',\n",
       " 'https://www.amazon.in/gp/bestsellers/books/1318064031',\n",
       " 'https://www.amazon.in/gp/bestsellers/books/1318068031',\n",
       " 'https://www.amazon.in/gp/bestsellers/books/64619755031']"
      ]
     },
     "execution_count": 87,
     "metadata": {},
     "output_type": "execute_result"
    }
   ],
   "source": [
    "category_urls[:5]"
   ]
  },
  {
   "cell_type": "markdown",
   "metadata": {},
   "source": [
    "## 2. Get info of bestseller books in the page of each genre\n",
    "\n",
    "**Objective**: In this section, we will parse and extract info of each bestseller book for each genre such as book name, author, rating, and URL for EACH category page."
   ]
  },
  {
   "cell_type": "markdown",
   "metadata": {},
   "source": [
    "- **Procedure**:\n",
    "    - Use requests to download a category page.\n",
    "    - Use functions to find all tags containing information such as name, author, rating, and URL of books and pass the tag one-by-one to helper functions.\n",
    "    - Use helper functions that take a tag of each book and return the info such as name, author, rate, and URL separately\n",
    "    - Convert to a pandas dataframe containing information of books."
   ]
  },
  {
   "cell_type": "markdown",
   "metadata": {},
   "source": [
    "**For example:** Let take the first genre: Action and Adventure. Below is the URL of action and adventure category."
   ]
  },
  {
   "cell_type": "markdown",
   "metadata": {},
   "source": [
    "**Function to download a category page:**"
   ]
  },
  {
   "cell_type": "code",
   "execution_count": 88,
   "metadata": {},
   "outputs": [],
   "source": [
    "def get_category_page(cat_url):\n",
    "    # This function download a category page\n",
    "    response = requests.get(cat_url)\n",
    "    if response.status_code != 200:\n",
    "        raise Exception('Failed to load page {}'.format(cat_url))\n",
    "    cat_doc = BeautifulSoup(response.text,'html.parser')\n",
    "    return cat_doc"
   ]
  },
  {
   "cell_type": "markdown",
   "metadata": {},
   "source": [
    " `get_category_page()` is used to download each book category page."
   ]
  },
  {
   "cell_type": "code",
   "execution_count": 103,
   "metadata": {},
   "outputs": [],
   "source": [
    "cat_doc = get_category_page(category_urls[0])"
   ]
  },
  {
   "cell_type": "code",
   "execution_count": 104,
   "metadata": {},
   "outputs": [
    {
     "data": {
      "text/plain": [
       "bs4.BeautifulSoup"
      ]
     },
     "execution_count": 104,
     "metadata": {},
     "output_type": "execute_result"
    }
   ],
   "source": [
    "type(cat_doc)"
   ]
  },
  {
   "cell_type": "code",
   "execution_count": 105,
   "metadata": {},
   "outputs": [],
   "source": [
    "book_class = 'zg-grid-general-faceout';\n",
    "book_tags = cat_doc.find_all(class_=book_class);\n",
    "tag = book_tags[10];"
   ]
  },
  {
   "cell_type": "code",
   "execution_count": 106,
   "metadata": {},
   "outputs": [
    {
     "data": {
      "text/plain": [
       "2"
      ]
     },
     "execution_count": 106,
     "metadata": {},
     "output_type": "execute_result"
    }
   ],
   "source": [
    "#bookname_class = \"_cDEzb_p13n-sc-css-line-clamp\";\n",
    "name_tag = tag.select('div[class*=\"_cDEzb_p13n-sc-css-line-clamp\"]');\n",
    "len(name_tag)"
   ]
  },
  {
   "cell_type": "markdown",
   "metadata": {},
   "source": [
    "**Function to get info of books:**"
   ]
  },
  {
   "cell_type": "code",
   "execution_count": 93,
   "metadata": {},
   "outputs": [],
   "source": [
    "def get_category_book(book_doc):\n",
    "    #Describe: this function return the dataframe of books info\n",
    "    \n",
    "    #Extract book name and author tags\n",
    "    book_class = 'zg-grid-general-faceout';\n",
    "    book_tags = book_doc.find_all(class_=book_class);\n",
    "    \n",
    "    #Get book info\n",
    "    book_category_dict = {\n",
    "    'Book Name' :[],\n",
    "    'Author' :[],\n",
    "    'Rating' :[],\n",
    "    'URL' :[],\n",
    "    }\n",
    "    \n",
    "    for i in range(len(book_tags)):\n",
    "        book_info = get_book_category_info(book_tags[i]);\n",
    "        book_category_dict['Book Name'].append(book_info[0]);\n",
    "        book_category_dict['Author'].append(book_info[1]);\n",
    "        book_category_dict['Rating'].append(book_info[2]);\n",
    "        book_category_dict['URL'].append(book_info[3]);\n",
    "    return pd.DataFrame(book_category_dict)"
   ]
  },
  {
   "cell_type": "markdown",
   "metadata": {},
   "source": [
    " `get_category_book()` is used to find all tags for each book by specifying the class attribute. These tags will be passed one-by-one to another helper function `get_book_category_info`, which return the lists of book name, author, rating and URL. This function also creates the dataframe containing info of each book such as name, author, rating and URL"
   ]
  },
  {
   "cell_type": "markdown",
   "metadata": {},
   "source": [
    "**Help Function taking each tag and return info of each book:**"
   ]
  },
  {
   "cell_type": "code",
   "execution_count": 94,
   "metadata": {},
   "outputs": [],
   "source": [
    "def get_book_category_info(book_tag):\n",
    "    # Describe: This function takes each tag and return info for each book\n",
    "    #Book & Author name\n",
    "    name, author = book_author_name(book_tag);\n",
    "    #link book\n",
    "    link = url(book_tag);\n",
    "    #Rating: contain check if there is rating for a book.\n",
    "    book_rate = rating(book_tag);\n",
    "    return name,author,book_rate,link"
   ]
  },
  {
   "cell_type": "markdown",
   "metadata": {},
   "source": [
    " `get_book_category_info()` recieves the tag of each book. Then it has 4 helper inner functions to extrac info of book such as name, author, rating and URL.\n",
    " - `book_name` used to return the name of the book\n",
    " - `book_author` used to return the name of author\n",
    " - `rating` used to return the rating of the book\n",
    " - `link` used to return the URL of the book"
   ]
  },
  {
   "cell_type": "code",
   "execution_count": 107,
   "metadata": {},
   "outputs": [],
   "source": [
    "def book_author_name(tag):\n",
    "    # This function return book name fromt tag\n",
    "    name_tag = tag.select('div[class*=\"_cDEzb_p13n-sc-css-line-clamp\"]');\n",
    "    if len(name_tag)<=1:\n",
    "        name= name_tag[0].text;\n",
    "        author=\"\";\n",
    "        return name, author\n",
    "    return name_tag[0].text,name_tag[1].text;\n",
    "    \n",
    "def rating(tag):\n",
    "    # This function return the rating. It also ontain check if there is rating for a book.\n",
    "    rate_tag = tag.find(class_='a-icon-alt')\n",
    "    if rate_tag == None:\n",
    "        book_rate = 'NA'\n",
    "    else:\n",
    "        book_rate = rate_tag.text\n",
    "    return book_rate\n",
    "\n",
    "def url(tag):\n",
    "    base_url = 'https://www.amazon.in'\n",
    "    a_tag = tag.find('a')\n",
    "    return base_url + a_tag['href']"
   ]
  },
  {
   "cell_type": "markdown",
   "metadata": {},
   "source": [
    "- **Explain Procedure:**\n",
    "    - First, for each category, download the category page by `get_category_page` by passing its URL to bs4.\n",
    "    - Using `get_category_book()` to find list of tags containing info of all books by using `find_all` to find all tags that has the `class`: `zg-grid-general-faceout`.\n",
    "    - Then create a loop to pass every tag of each book to the helper function `get_book_category_info()`. This function will return the name, author, rating and book url.\n",
    "    - In `get_book_category_info()`, we have 4 inner helper functions that extract 4 types of info: `book_name`, `book_author`, `rating`, and `url`.\n",
    "   \n",
    "![](https://i.imgur.com/rJG6TPJ.png)"
   ]
  },
  {
   "cell_type": "markdown",
   "metadata": {},
   "source": [
    "**Example Result:**"
   ]
  },
  {
   "cell_type": "code",
   "execution_count": 108,
   "metadata": {},
   "outputs": [
    {
     "data": {
      "text/html": [
       "<div>\n",
       "<style scoped>\n",
       "    .dataframe tbody tr th:only-of-type {\n",
       "        vertical-align: middle;\n",
       "    }\n",
       "\n",
       "    .dataframe tbody tr th {\n",
       "        vertical-align: top;\n",
       "    }\n",
       "\n",
       "    .dataframe thead th {\n",
       "        text-align: right;\n",
       "    }\n",
       "</style>\n",
       "<table border=\"1\" class=\"dataframe\">\n",
       "  <thead>\n",
       "    <tr style=\"text-align: right;\">\n",
       "      <th></th>\n",
       "      <th>Book Name</th>\n",
       "      <th>Author</th>\n",
       "      <th>Rating</th>\n",
       "      <th>URL</th>\n",
       "    </tr>\n",
       "  </thead>\n",
       "  <tbody>\n",
       "    <tr>\n",
       "      <th>0</th>\n",
       "      <td>Harry Potter and the Philosopher's Stone</td>\n",
       "      <td>J.K. Rowling</td>\n",
       "      <td>4.7 out of 5 stars</td>\n",
       "      <td>https://www.amazon.in/Harry-Potter-Philosopher...</td>\n",
       "    </tr>\n",
       "    <tr>\n",
       "      <th>1</th>\n",
       "      <td>THE LION INSIDE</td>\n",
       "      <td>Rachel Bright</td>\n",
       "      <td>4.7 out of 5 stars</td>\n",
       "      <td>https://www.amazon.in/LION-INSIDE-Rachel-Brigh...</td>\n",
       "    </tr>\n",
       "    <tr>\n",
       "      <th>2</th>\n",
       "      <td>THE SILENT PATIENT [Paperback] Michaelides, Alex</td>\n",
       "      <td>Alex Michaelides</td>\n",
       "      <td>4.5 out of 5 stars</td>\n",
       "      <td>https://www.amazon.in/Silent-Patient-Alex-Mich...</td>\n",
       "    </tr>\n",
       "    <tr>\n",
       "      <th>3</th>\n",
       "      <td>The Housemaid : An addictive psychological thr...</td>\n",
       "      <td>Freida McFadden</td>\n",
       "      <td>4.4 out of 5 stars</td>\n",
       "      <td>https://www.amazon.in/Housemaid-addictive-psyc...</td>\n",
       "    </tr>\n",
       "    <tr>\n",
       "      <th>4</th>\n",
       "      <td>The Hidden Hindu Boxset: The Complete Trilogy ...</td>\n",
       "      <td>Akshat Gupta</td>\n",
       "      <td>4.5 out of 5 stars</td>\n",
       "      <td>https://www.amazon.in/Hidden-Hindu-Boxset-Aksh...</td>\n",
       "    </tr>\n",
       "  </tbody>\n",
       "</table>\n",
       "</div>"
      ],
      "text/plain": [
       "                                           Book Name            Author  \\\n",
       "0           Harry Potter and the Philosopher's Stone      J.K. Rowling   \n",
       "1                                    THE LION INSIDE     Rachel Bright   \n",
       "2   THE SILENT PATIENT [Paperback] Michaelides, Alex  Alex Michaelides   \n",
       "3  The Housemaid : An addictive psychological thr...   Freida McFadden   \n",
       "4  The Hidden Hindu Boxset: The Complete Trilogy ...      Akshat Gupta   \n",
       "\n",
       "               Rating                                                URL  \n",
       "0  4.7 out of 5 stars  https://www.amazon.in/Harry-Potter-Philosopher...  \n",
       "1  4.7 out of 5 stars  https://www.amazon.in/LION-INSIDE-Rachel-Brigh...  \n",
       "2  4.5 out of 5 stars  https://www.amazon.in/Silent-Patient-Alex-Mich...  \n",
       "3  4.4 out of 5 stars  https://www.amazon.in/Housemaid-addictive-psyc...  \n",
       "4  4.5 out of 5 stars  https://www.amazon.in/Hidden-Hindu-Boxset-Aksh...  "
      ]
     },
     "execution_count": 108,
     "metadata": {},
     "output_type": "execute_result"
    }
   ],
   "source": [
    "get_category_book(cat_doc)[:5]"
   ]
  },
  {
   "cell_type": "markdown",
   "metadata": {},
   "source": [
    "## 3. Saving and Organizing data"
   ]
  },
  {
   "cell_type": "markdown",
   "metadata": {},
   "source": [
    "**Function to scrape info of bestseller books in ALL catgories and save as csv files in each category folder.**"
   ]
  },
  {
   "cell_type": "code",
   "execution_count": 109,
   "metadata": {},
   "outputs": [],
   "source": [
    "def scrape_book_bestseller():\n",
    "    print('Scraping the top bestseller book in AMAZON:')\n",
    "    category_df = scrape_category()\n",
    "    \n",
    "    os.makedirs('data',exist_ok=True)\n",
    "    for index,row in category_df.iterrows():\n",
    "        print('Scraping the top bestsellers book for {} genre'.format(row['Book Categories']))\n",
    "        scrape_category_book(row['URL'],'data/{}.csv'.format(row['Book Categories']))"
   ]
  },
  {
   "cell_type": "markdown",
   "metadata": {},
   "source": [
    "- The function above is the general outermost function, and is the function we'll call to scrape all info of books in ALL categories. It has two helper functions:\n",
    "    - `scrape_category()` to scrape the name of each category and the URL and create a data frame. It contains `get_amazon_page` helper function to download bestseller book page by using requests. Moreover, this function contain 2 inner helper functions `get_category_name` and `get_category_url` above to scrape the info of each category."
   ]
  },
  {
   "cell_type": "code",
   "execution_count": 110,
   "metadata": {},
   "outputs": [],
   "source": [
    "def scrape_category():\n",
    "    doc =  get_amazon_page();\n",
    "    category_dict ={\n",
    "    'Book Categories': get_category_name(doc),\n",
    "    'URL': get_category_url(doc)\n",
    "    }\n",
    "    return pd.DataFrame(category_dict);"
   ]
  },
  {
   "cell_type": "markdown",
   "metadata": {},
   "source": [
    "- `scrape_category_book()` to scrape books in each category. It belongs to a loop that pass name and URL of each category in the list above. Inside this function, we see the `get_category_book` and `get_category_page` function.\n",
    "    - First `scrape_category_book` recieve the URL of a category and its saving path. Then the function check if the saving path exists. If so, the cvs file is created, and no need for scraping. If not, it will pass the url to `get_category_page()` function to download the category page by using bs4. Then `get_category_book()` take file doc from the previous function to parse and extract info of each book in the category page and create the list. As we know, inside `get_category_book()`, we have another helper function that take a tag of each book to extract the information.\n",
    "    - This function also has a checkpoint. During running the program, there will be error with fetching the web page. So, to avoid create the same csv file. It wil check the if the csv file exists by checking the savving path. If the file exists, that category will be skipped."
   ]
  },
  {
   "cell_type": "code",
   "execution_count": 111,
   "metadata": {},
   "outputs": [],
   "source": [
    "def scrape_category_book(cat_url,path):\n",
    "    if os.path.exists(path):\n",
    "        print('The file {} already exists. Skipping...'.format(path))\n",
    "        return\n",
    "    book_df = get_category_book(get_category_page(cat_url))\n",
    "    book_df.to_csv(path, index = None)"
   ]
  },
  {
   "cell_type": "markdown",
   "metadata": {},
   "source": [
    "## 4. Put it together - Final Code"
   ]
  },
  {
   "cell_type": "markdown",
   "metadata": {},
   "source": [
    "#### a. Function of scraping category"
   ]
  },
  {
   "cell_type": "code",
   "execution_count": 112,
   "metadata": {},
   "outputs": [],
   "source": [
    "def get_category_name(cat_doc):\n",
    "    # Result the name of each category\n",
    "    select_class=\"_p13n-zg-nav-tree-all_style_zg-browse-item__1rdKf _p13n-zg-nav-tree-all_style_zg-browse-height-large__1z5B8\";\n",
    "    class_tags = cat_doc.find_all(class_=select_class)\n",
    "    categories_tag = class_tags[1:]\n",
    "    name_categories = [];\n",
    "    for tag in categories_tag:\n",
    "        name_categories.append(tag.text)\n",
    "    return name_categories\n",
    "\n",
    "def get_category_url(cat_doc):\n",
    "    # Return the url of each category\n",
    "    select_class=\"_p13n-zg-nav-tree-all_style_zg-browse-item__1rdKf _p13n-zg-nav-tree-all_style_zg-browse-height-large__1z5B8\";\n",
    "    class_tags = cat_doc.find_all(class_=select_class)\n",
    "    categories_tag = class_tags[1:]\n",
    "    category_urls = [];\n",
    "    base_url = 'https://www.amazon.in';\n",
    "    for tag in categories_tag:\n",
    "        a_tag = tag.find('a')\n",
    "        category_urls.append(base_url + a_tag['href'])\n",
    "    return category_urls\n",
    "\n",
    "def get_amazon_page():\n",
    "    #TODO: this function return the book category page\n",
    "    url = 'https://www.amazon.in/gp/bestsellers/books/'\n",
    "    response = requests.get(url)\n",
    "    if response.status_code != 200:\n",
    "        raise Exception('Failed to load page {}'.format(url))\n",
    "    doc = BeautifulSoup(response.text,'html.parser')\n",
    "    return doc\n",
    "\n",
    "def scrape_category():\n",
    "    # This function return the list of category contain name and URL\n",
    "    doc =  get_amazon_page();\n",
    "    category_dict ={\n",
    "    'Book Categories': get_category_name(doc),\n",
    "    'URL': get_category_url(doc)\n",
    "    }\n",
    "    return pd.DataFrame(category_dict);"
   ]
  },
  {
   "cell_type": "markdown",
   "metadata": {},
   "source": [
    "#### b. Function of scraping info of each books for each category page."
   ]
  },
  {
   "cell_type": "code",
   "execution_count": 113,
   "metadata": {},
   "outputs": [],
   "source": [
    "def book_author_name(tag):\n",
    "    # This function return book name fromt tag\n",
    "    name_tag = tag.select('div[class*=\"_cDEzb_p13n-sc-css-line-clamp\"]');\n",
    "    if len(name_tag)<=1:\n",
    "        name= name_tag[0].text;\n",
    "        author=\"\";\n",
    "        return name, author\n",
    "    return name_tag[0].text,name_tag[1].text;\n",
    "\n",
    "def rating(tag):\n",
    "    # This function return the rating. It also ontain check if there is rating for a book.\n",
    "    rate_tag = tag.find(class_='a-icon-alt')\n",
    "    if rate_tag == None:\n",
    "        book_rate = 'NA'\n",
    "    else:\n",
    "        book_rate = rate_tag.text\n",
    "    return book_rate\n",
    "\n",
    "def url(tag):\n",
    "    base_url = 'https://www.amazon.in'\n",
    "    a_tag = tag.find('a')\n",
    "    return base_url + a_tag['href']\n",
    "    \n",
    "def get_book_category_info(book_tag):\n",
    "    # Describe: This function takes each tag and return info for each book\n",
    "    #Book & Author name\n",
    "    name, author = book_author_name(book_tag);\n",
    "    #link book\n",
    "    link = url(book_tag);\n",
    "    #Rating: contain check if there is rating for a book.\n",
    "    book_rate = rating(book_tag);\n",
    "    return name,author,book_rate,link\n",
    "\n",
    "def get_category_book(book_doc):\n",
    "    #Describe: this function return the dataframe of books info\n",
    "    #Extract book name and author tags\n",
    "    book_class = 'zg-grid-general-faceout';\n",
    "    book_tags = book_doc.find_all(class_=book_class);\n",
    "    \n",
    "    #Get book info\n",
    "    book_category_dict = {\n",
    "    'Book Name' :[],\n",
    "    'Author' :[],\n",
    "    'Rating' :[],\n",
    "    'URL' :[],\n",
    "    }\n",
    "    \n",
    "    for i in range(len(book_tags)):\n",
    "        book_info = get_book_category_info(book_tags[i]);\n",
    "        book_category_dict['Book Name'].append(book_info[0]);\n",
    "        book_category_dict['Author'].append(book_info[1]);\n",
    "        book_category_dict['Rating'].append(book_info[2]);\n",
    "        book_category_dict['URL'].append(book_info[3]);\n",
    "    return pd.DataFrame(book_category_dict)\n",
    "\n",
    "def scrape_category_book(cat_url,path):\n",
    "    # this function accept the url of each category, scrape the book info and save it in specific path.\n",
    "    if os.path.exists(path):\n",
    "        print('The file {} already exists. Skipping...'.format(path))\n",
    "        return\n",
    "    book_df = get_category_book(get_category_page(cat_url))\n",
    "    book_df.to_csv(path, index = None)"
   ]
  },
  {
   "cell_type": "markdown",
   "metadata": {},
   "source": [
    "#### c. General/ Outer function of scraping the list of categores and the info of books for each category page."
   ]
  },
  {
   "cell_type": "code",
   "execution_count": 114,
   "metadata": {},
   "outputs": [],
   "source": [
    "def scrape_book_bestseller():\n",
    "    print('Scraping the top bestseller book in AMAZON:')\n",
    "    category_df = scrape_category()\n",
    "    \n",
    "    os.makedirs('data',exist_ok=True)\n",
    "    for index,row in category_df.iterrows():\n",
    "        print('Scraping the top bestsellers book for {} genre'.format(row['Book Categories']))\n",
    "        scrape_category_book(row['URL'],'data/{}.csv'.format(row['Book Categories']))"
   ]
  },
  {
   "cell_type": "markdown",
   "metadata": {},
   "source": [
    "## 5. Results"
   ]
  },
  {
   "cell_type": "markdown",
   "metadata": {},
   "source": [
    "**Check the function that scrape the list of categories:**"
   ]
  },
  {
   "cell_type": "code",
   "execution_count": 115,
   "metadata": {},
   "outputs": [
    {
     "data": {
      "text/html": [
       "<div>\n",
       "<style scoped>\n",
       "    .dataframe tbody tr th:only-of-type {\n",
       "        vertical-align: middle;\n",
       "    }\n",
       "\n",
       "    .dataframe tbody tr th {\n",
       "        vertical-align: top;\n",
       "    }\n",
       "\n",
       "    .dataframe thead th {\n",
       "        text-align: right;\n",
       "    }\n",
       "</style>\n",
       "<table border=\"1\" class=\"dataframe\">\n",
       "  <thead>\n",
       "    <tr style=\"text-align: right;\">\n",
       "      <th></th>\n",
       "      <th>Book Categories</th>\n",
       "      <th>URL</th>\n",
       "    </tr>\n",
       "  </thead>\n",
       "  <tbody>\n",
       "    <tr>\n",
       "      <th>0</th>\n",
       "      <td>Action &amp; Adventure</td>\n",
       "      <td>https://www.amazon.in/gp/bestsellers/books/131...</td>\n",
       "    </tr>\n",
       "    <tr>\n",
       "      <th>1</th>\n",
       "      <td>Arts, Film &amp; Photography</td>\n",
       "      <td>https://www.amazon.in/gp/bestsellers/books/131...</td>\n",
       "    </tr>\n",
       "    <tr>\n",
       "      <th>2</th>\n",
       "      <td>Biographies, Diaries &amp; True Accounts</td>\n",
       "      <td>https://www.amazon.in/gp/bestsellers/books/131...</td>\n",
       "    </tr>\n",
       "    <tr>\n",
       "      <th>3</th>\n",
       "      <td>Business &amp; Economics</td>\n",
       "      <td>https://www.amazon.in/gp/bestsellers/books/131...</td>\n",
       "    </tr>\n",
       "    <tr>\n",
       "      <th>4</th>\n",
       "      <td>Children's Books</td>\n",
       "      <td>https://www.amazon.in/gp/bestsellers/books/646...</td>\n",
       "    </tr>\n",
       "    <tr>\n",
       "      <th>5</th>\n",
       "      <td>Comics &amp; Mangas</td>\n",
       "      <td>https://www.amazon.in/gp/bestsellers/books/131...</td>\n",
       "    </tr>\n",
       "    <tr>\n",
       "      <th>6</th>\n",
       "      <td>Computing, Internet &amp; Digital Media</td>\n",
       "      <td>https://www.amazon.in/gp/bestsellers/books/131...</td>\n",
       "    </tr>\n",
       "    <tr>\n",
       "      <th>7</th>\n",
       "      <td>Crafts, Home &amp; Lifestyle</td>\n",
       "      <td>https://www.amazon.in/gp/bestsellers/books/131...</td>\n",
       "    </tr>\n",
       "    <tr>\n",
       "      <th>8</th>\n",
       "      <td>Crime, Thriller &amp; Mystery</td>\n",
       "      <td>https://www.amazon.in/gp/bestsellers/books/131...</td>\n",
       "    </tr>\n",
       "    <tr>\n",
       "      <th>9</th>\n",
       "      <td>Engineering</td>\n",
       "      <td>https://www.amazon.in/gp/bestsellers/books/229...</td>\n",
       "    </tr>\n",
       "    <tr>\n",
       "      <th>10</th>\n",
       "      <td>Exam Preparation</td>\n",
       "      <td>https://www.amazon.in/gp/bestsellers/books/414...</td>\n",
       "    </tr>\n",
       "    <tr>\n",
       "      <th>11</th>\n",
       "      <td>Fantasy, Horror &amp; Science Fiction</td>\n",
       "      <td>https://www.amazon.in/gp/bestsellers/books/140...</td>\n",
       "    </tr>\n",
       "    <tr>\n",
       "      <th>12</th>\n",
       "      <td>Health, Family &amp; Personal Development</td>\n",
       "      <td>https://www.amazon.in/gp/bestsellers/books/131...</td>\n",
       "    </tr>\n",
       "    <tr>\n",
       "      <th>13</th>\n",
       "      <td>Health, Fitness &amp; Nutrition</td>\n",
       "      <td>https://www.amazon.in/gp/bestsellers/books/230...</td>\n",
       "    </tr>\n",
       "    <tr>\n",
       "      <th>14</th>\n",
       "      <td>Higher Education Textbooks</td>\n",
       "      <td>https://www.amazon.in/gp/bestsellers/books/414...</td>\n",
       "    </tr>\n",
       "    <tr>\n",
       "      <th>15</th>\n",
       "      <td>Historical Fiction</td>\n",
       "      <td>https://www.amazon.in/gp/bestsellers/books/131...</td>\n",
       "    </tr>\n",
       "    <tr>\n",
       "      <th>16</th>\n",
       "      <td>History</td>\n",
       "      <td>https://www.amazon.in/gp/bestsellers/books/414...</td>\n",
       "    </tr>\n",
       "    <tr>\n",
       "      <th>17</th>\n",
       "      <td>Humour</td>\n",
       "      <td>https://www.amazon.in/gp/bestsellers/books/131...</td>\n",
       "    </tr>\n",
       "    <tr>\n",
       "      <th>18</th>\n",
       "      <td>Language, Linguistics &amp; Writing</td>\n",
       "      <td>https://www.amazon.in/gp/bestsellers/books/131...</td>\n",
       "    </tr>\n",
       "    <tr>\n",
       "      <th>19</th>\n",
       "      <td>Law</td>\n",
       "      <td>https://www.amazon.in/gp/bestsellers/books/414...</td>\n",
       "    </tr>\n",
       "    <tr>\n",
       "      <th>20</th>\n",
       "      <td>Literature &amp; Fiction</td>\n",
       "      <td>https://www.amazon.in/gp/bestsellers/books/131...</td>\n",
       "    </tr>\n",
       "    <tr>\n",
       "      <th>21</th>\n",
       "      <td>Maps &amp; Atlases</td>\n",
       "      <td>https://www.amazon.in/gp/bestsellers/books/131...</td>\n",
       "    </tr>\n",
       "    <tr>\n",
       "      <th>22</th>\n",
       "      <td>Medicine &amp; Health Sciences</td>\n",
       "      <td>https://www.amazon.in/gp/bestsellers/books/414...</td>\n",
       "    </tr>\n",
       "    <tr>\n",
       "      <th>23</th>\n",
       "      <td>Politics</td>\n",
       "      <td>https://www.amazon.in/gp/bestsellers/books/131...</td>\n",
       "    </tr>\n",
       "    <tr>\n",
       "      <th>24</th>\n",
       "      <td>Reference</td>\n",
       "      <td>https://www.amazon.in/gp/bestsellers/books/131...</td>\n",
       "    </tr>\n",
       "    <tr>\n",
       "      <th>25</th>\n",
       "      <td>Religion</td>\n",
       "      <td>https://www.amazon.in/gp/bestsellers/books/131...</td>\n",
       "    </tr>\n",
       "    <tr>\n",
       "      <th>26</th>\n",
       "      <td>Romance</td>\n",
       "      <td>https://www.amazon.in/gp/bestsellers/books/131...</td>\n",
       "    </tr>\n",
       "    <tr>\n",
       "      <th>27</th>\n",
       "      <td>School Books</td>\n",
       "      <td>https://www.amazon.in/gp/bestsellers/books/414...</td>\n",
       "    </tr>\n",
       "    <tr>\n",
       "      <th>28</th>\n",
       "      <td>Science &amp; Mathematics</td>\n",
       "      <td>https://www.amazon.in/gp/bestsellers/books/414...</td>\n",
       "    </tr>\n",
       "    <tr>\n",
       "      <th>29</th>\n",
       "      <td>Sciences, Technology &amp; Medicine</td>\n",
       "      <td>https://www.amazon.in/gp/bestsellers/books/131...</td>\n",
       "    </tr>\n",
       "    <tr>\n",
       "      <th>30</th>\n",
       "      <td>Society &amp; Social Sciences</td>\n",
       "      <td>https://www.amazon.in/gp/bestsellers/books/131...</td>\n",
       "    </tr>\n",
       "    <tr>\n",
       "      <th>31</th>\n",
       "      <td>Sports</td>\n",
       "      <td>https://www.amazon.in/gp/bestsellers/books/131...</td>\n",
       "    </tr>\n",
       "    <tr>\n",
       "      <th>32</th>\n",
       "      <td>Teen &amp; Young Adult</td>\n",
       "      <td>https://www.amazon.in/gp/bestsellers/books/646...</td>\n",
       "    </tr>\n",
       "    <tr>\n",
       "      <th>33</th>\n",
       "      <td>Textbooks &amp; Study Guides</td>\n",
       "      <td>https://www.amazon.in/gp/bestsellers/books/154...</td>\n",
       "    </tr>\n",
       "    <tr>\n",
       "      <th>34</th>\n",
       "      <td>Travel</td>\n",
       "      <td>https://www.amazon.in/gp/bestsellers/books/131...</td>\n",
       "    </tr>\n",
       "  </tbody>\n",
       "</table>\n",
       "</div>"
      ],
      "text/plain": [
       "                          Book Categories  \\\n",
       "0                      Action & Adventure   \n",
       "1                Arts, Film & Photography   \n",
       "2    Biographies, Diaries & True Accounts   \n",
       "3                    Business & Economics   \n",
       "4                        Children's Books   \n",
       "5                         Comics & Mangas   \n",
       "6     Computing, Internet & Digital Media   \n",
       "7                Crafts, Home & Lifestyle   \n",
       "8               Crime, Thriller & Mystery   \n",
       "9                             Engineering   \n",
       "10                       Exam Preparation   \n",
       "11      Fantasy, Horror & Science Fiction   \n",
       "12  Health, Family & Personal Development   \n",
       "13            Health, Fitness & Nutrition   \n",
       "14             Higher Education Textbooks   \n",
       "15                     Historical Fiction   \n",
       "16                                History   \n",
       "17                                 Humour   \n",
       "18        Language, Linguistics & Writing   \n",
       "19                                    Law   \n",
       "20                   Literature & Fiction   \n",
       "21                         Maps & Atlases   \n",
       "22             Medicine & Health Sciences   \n",
       "23                               Politics   \n",
       "24                              Reference   \n",
       "25                               Religion   \n",
       "26                                Romance   \n",
       "27                           School Books   \n",
       "28                  Science & Mathematics   \n",
       "29        Sciences, Technology & Medicine   \n",
       "30              Society & Social Sciences   \n",
       "31                                 Sports   \n",
       "32                     Teen & Young Adult   \n",
       "33               Textbooks & Study Guides   \n",
       "34                                 Travel   \n",
       "\n",
       "                                                  URL  \n",
       "0   https://www.amazon.in/gp/bestsellers/books/131...  \n",
       "1   https://www.amazon.in/gp/bestsellers/books/131...  \n",
       "2   https://www.amazon.in/gp/bestsellers/books/131...  \n",
       "3   https://www.amazon.in/gp/bestsellers/books/131...  \n",
       "4   https://www.amazon.in/gp/bestsellers/books/646...  \n",
       "5   https://www.amazon.in/gp/bestsellers/books/131...  \n",
       "6   https://www.amazon.in/gp/bestsellers/books/131...  \n",
       "7   https://www.amazon.in/gp/bestsellers/books/131...  \n",
       "8   https://www.amazon.in/gp/bestsellers/books/131...  \n",
       "9   https://www.amazon.in/gp/bestsellers/books/229...  \n",
       "10  https://www.amazon.in/gp/bestsellers/books/414...  \n",
       "11  https://www.amazon.in/gp/bestsellers/books/140...  \n",
       "12  https://www.amazon.in/gp/bestsellers/books/131...  \n",
       "13  https://www.amazon.in/gp/bestsellers/books/230...  \n",
       "14  https://www.amazon.in/gp/bestsellers/books/414...  \n",
       "15  https://www.amazon.in/gp/bestsellers/books/131...  \n",
       "16  https://www.amazon.in/gp/bestsellers/books/414...  \n",
       "17  https://www.amazon.in/gp/bestsellers/books/131...  \n",
       "18  https://www.amazon.in/gp/bestsellers/books/131...  \n",
       "19  https://www.amazon.in/gp/bestsellers/books/414...  \n",
       "20  https://www.amazon.in/gp/bestsellers/books/131...  \n",
       "21  https://www.amazon.in/gp/bestsellers/books/131...  \n",
       "22  https://www.amazon.in/gp/bestsellers/books/414...  \n",
       "23  https://www.amazon.in/gp/bestsellers/books/131...  \n",
       "24  https://www.amazon.in/gp/bestsellers/books/131...  \n",
       "25  https://www.amazon.in/gp/bestsellers/books/131...  \n",
       "26  https://www.amazon.in/gp/bestsellers/books/131...  \n",
       "27  https://www.amazon.in/gp/bestsellers/books/414...  \n",
       "28  https://www.amazon.in/gp/bestsellers/books/414...  \n",
       "29  https://www.amazon.in/gp/bestsellers/books/131...  \n",
       "30  https://www.amazon.in/gp/bestsellers/books/131...  \n",
       "31  https://www.amazon.in/gp/bestsellers/books/131...  \n",
       "32  https://www.amazon.in/gp/bestsellers/books/646...  \n",
       "33  https://www.amazon.in/gp/bestsellers/books/154...  \n",
       "34  https://www.amazon.in/gp/bestsellers/books/131...  "
      ]
     },
     "execution_count": 115,
     "metadata": {},
     "output_type": "execute_result"
    }
   ],
   "source": [
    "scrape_category()"
   ]
  },
  {
   "cell_type": "markdown",
   "metadata": {},
   "source": [
    "**Check the final/outer code that scrape the bestseller books for each category and save it in csv file.**"
   ]
  },
  {
   "cell_type": "code",
   "execution_count": 116,
   "metadata": {},
   "outputs": [
    {
     "name": "stdout",
     "output_type": "stream",
     "text": [
      "Scraping the top bestseller book in AMAZON:\n",
      "Scraping the top bestsellers book for Action & Adventure genre\n",
      "Scraping the top bestsellers book for Arts, Film & Photography genre\n",
      "Scraping the top bestsellers book for Biographies, Diaries & True Accounts genre\n",
      "Scraping the top bestsellers book for Business & Economics genre\n",
      "Scraping the top bestsellers book for Children's Books genre\n",
      "Scraping the top bestsellers book for Comics & Mangas genre\n",
      "Scraping the top bestsellers book for Computing, Internet & Digital Media genre\n",
      "Scraping the top bestsellers book for Crafts, Home & Lifestyle genre\n",
      "Scraping the top bestsellers book for Crime, Thriller & Mystery genre\n",
      "Scraping the top bestsellers book for Engineering genre\n",
      "Scraping the top bestsellers book for Exam Preparation genre\n",
      "Scraping the top bestsellers book for Fantasy, Horror & Science Fiction genre\n",
      "Scraping the top bestsellers book for Health, Family & Personal Development genre\n",
      "Scraping the top bestsellers book for Health, Fitness & Nutrition genre\n",
      "Scraping the top bestsellers book for Higher Education Textbooks genre\n",
      "Scraping the top bestsellers book for Historical Fiction genre\n",
      "Scraping the top bestsellers book for History genre\n",
      "Scraping the top bestsellers book for Humour genre\n",
      "Scraping the top bestsellers book for Language, Linguistics & Writing genre\n",
      "Scraping the top bestsellers book for Law genre\n",
      "Scraping the top bestsellers book for Literature & Fiction genre\n",
      "Scraping the top bestsellers book for Maps & Atlases genre\n",
      "Scraping the top bestsellers book for Medicine & Health Sciences genre\n",
      "Scraping the top bestsellers book for Politics genre\n",
      "Scraping the top bestsellers book for Reference genre\n",
      "Scraping the top bestsellers book for Religion genre\n",
      "Scraping the top bestsellers book for Romance genre\n",
      "Scraping the top bestsellers book for School Books genre\n",
      "Scraping the top bestsellers book for Science & Mathematics genre\n",
      "Scraping the top bestsellers book for Sciences, Technology & Medicine genre\n",
      "Scraping the top bestsellers book for Society & Social Sciences genre\n",
      "Scraping the top bestsellers book for Sports genre\n",
      "Scraping the top bestsellers book for Teen & Young Adult genre\n",
      "Scraping the top bestsellers book for Textbooks & Study Guides genre\n",
      "Scraping the top bestsellers book for Travel genre\n"
     ]
    }
   ],
   "source": [
    "scrape_book_bestseller()"
   ]
  },
  {
   "cell_type": "markdown",
   "metadata": {},
   "source": [
    "**Comment:** There are several errors with loading the website. When running again, the code will check if the csv file exits. If so, it will skipp that category and move to the next category. The code work well and seems to scrape all categories. Let check csv files for some categories."
   ]
  },
  {
   "cell_type": "markdown",
   "metadata": {},
   "source": [
    "**History genre:**"
   ]
  },
  {
   "cell_type": "code",
   "execution_count": 117,
   "metadata": {},
   "outputs": [
    {
     "data": {
      "text/html": [
       "<div>\n",
       "<style scoped>\n",
       "    .dataframe tbody tr th:only-of-type {\n",
       "        vertical-align: middle;\n",
       "    }\n",
       "\n",
       "    .dataframe tbody tr th {\n",
       "        vertical-align: top;\n",
       "    }\n",
       "\n",
       "    .dataframe thead th {\n",
       "        text-align: right;\n",
       "    }\n",
       "</style>\n",
       "<table border=\"1\" class=\"dataframe\">\n",
       "  <thead>\n",
       "    <tr style=\"text-align: right;\">\n",
       "      <th></th>\n",
       "      <th>Book Name</th>\n",
       "      <th>Author</th>\n",
       "      <th>Rating</th>\n",
       "      <th>URL</th>\n",
       "    </tr>\n",
       "  </thead>\n",
       "  <tbody>\n",
       "    <tr>\n",
       "      <th>0</th>\n",
       "      <td>Animals Tales From Panchtantra: Timeless Stori...</td>\n",
       "      <td>Wonder House Books</td>\n",
       "      <td>4.5 out of 5 stars</td>\n",
       "      <td>https://www.amazon.in/Animals-Tales-Panchtantr...</td>\n",
       "    </tr>\n",
       "    <tr>\n",
       "      <th>1</th>\n",
       "      <td>Autobiography of a Yogi</td>\n",
       "      <td>Paramahansa Yogananda</td>\n",
       "      <td>4.6 out of 5 stars</td>\n",
       "      <td>https://www.amazon.in/Autobiography-Yogi-Param...</td>\n",
       "    </tr>\n",
       "    <tr>\n",
       "      <th>2</th>\n",
       "      <td>Strictly Personal: Gursharan and Manmohan</td>\n",
       "      <td>Daman Singh</td>\n",
       "      <td>4.5 out of 5 stars</td>\n",
       "      <td>https://www.amazon.in/Strictly-Personal-Gursha...</td>\n",
       "    </tr>\n",
       "    <tr>\n",
       "      <th>3</th>\n",
       "      <td>Meditations</td>\n",
       "      <td>Marcus Aurelius</td>\n",
       "      <td>4.3 out of 5 stars</td>\n",
       "      <td>https://www.amazon.in/Meditations-Marcus-Aurel...</td>\n",
       "    </tr>\n",
       "    <tr>\n",
       "      <th>4</th>\n",
       "      <td>The Golden Road : How Ancient India Transforme...</td>\n",
       "      <td>Wlliam Dalrymple</td>\n",
       "      <td>4.6 out of 5 stars</td>\n",
       "      <td>https://www.amazon.in/Golden-Road-Ancient-Indi...</td>\n",
       "    </tr>\n",
       "    <tr>\n",
       "      <th>5</th>\n",
       "      <td>Nexus: A Brief History of Information Networks...</td>\n",
       "      <td>Yuval Noah Harari</td>\n",
       "      <td>4.5 out of 5 stars</td>\n",
       "      <td>https://www.amazon.in/Nexus-Brief-History-Info...</td>\n",
       "    </tr>\n",
       "    <tr>\n",
       "      <th>6</th>\n",
       "      <td>Jaun Elia: Ek Ajab Ghazab Shayar - Hindi</td>\n",
       "      <td>Jaun Elia</td>\n",
       "      <td>4.5 out of 5 stars</td>\n",
       "      <td>https://www.amazon.in/Jaun-Elia-Ajab-Ghazab-Sh...</td>\n",
       "    </tr>\n",
       "    <tr>\n",
       "      <th>7</th>\n",
       "      <td>Thirteen Months In The Himalayas : Chronicles ...</td>\n",
       "      <td>Om Swami</td>\n",
       "      <td>4.9 out of 5 stars</td>\n",
       "      <td>https://www.amazon.in/Thirteen-Months-Himalaya...</td>\n",
       "    </tr>\n",
       "    <tr>\n",
       "      <th>8</th>\n",
       "      <td>Nexus: FROM THE MULTI-MILLION COPY BESTSELLING...</td>\n",
       "      <td>Yuval Noah Harari</td>\n",
       "      <td>4.5 out of 5 stars</td>\n",
       "      <td>https://www.amazon.in/Nexus-MULTI-MILLION-BEST...</td>\n",
       "    </tr>\n",
       "    <tr>\n",
       "      <th>9</th>\n",
       "      <td>Man's Search For Meaning: The classic tribute ...</td>\n",
       "      <td>Victor E. Frankl</td>\n",
       "      <td>4.5 out of 5 stars</td>\n",
       "      <td>https://www.amazon.in/Mans-Search-Meaning-Vikt...</td>\n",
       "    </tr>\n",
       "  </tbody>\n",
       "</table>\n",
       "</div>"
      ],
      "text/plain": [
       "                                           Book Name                 Author  \\\n",
       "0  Animals Tales From Panchtantra: Timeless Stori...     Wonder House Books   \n",
       "1                            Autobiography of a Yogi  Paramahansa Yogananda   \n",
       "2          Strictly Personal: Gursharan and Manmohan            Daman Singh   \n",
       "3                                        Meditations        Marcus Aurelius   \n",
       "4  The Golden Road : How Ancient India Transforme...       Wlliam Dalrymple   \n",
       "5  Nexus: A Brief History of Information Networks...      Yuval Noah Harari   \n",
       "6           Jaun Elia: Ek Ajab Ghazab Shayar - Hindi              Jaun Elia   \n",
       "7  Thirteen Months In The Himalayas : Chronicles ...               Om Swami   \n",
       "8  Nexus: FROM THE MULTI-MILLION COPY BESTSELLING...      Yuval Noah Harari   \n",
       "9  Man's Search For Meaning: The classic tribute ...       Victor E. Frankl   \n",
       "\n",
       "               Rating                                                URL  \n",
       "0  4.5 out of 5 stars  https://www.amazon.in/Animals-Tales-Panchtantr...  \n",
       "1  4.6 out of 5 stars  https://www.amazon.in/Autobiography-Yogi-Param...  \n",
       "2  4.5 out of 5 stars  https://www.amazon.in/Strictly-Personal-Gursha...  \n",
       "3  4.3 out of 5 stars  https://www.amazon.in/Meditations-Marcus-Aurel...  \n",
       "4  4.6 out of 5 stars  https://www.amazon.in/Golden-Road-Ancient-Indi...  \n",
       "5  4.5 out of 5 stars  https://www.amazon.in/Nexus-Brief-History-Info...  \n",
       "6  4.5 out of 5 stars  https://www.amazon.in/Jaun-Elia-Ajab-Ghazab-Sh...  \n",
       "7  4.9 out of 5 stars  https://www.amazon.in/Thirteen-Months-Himalaya...  \n",
       "8  4.5 out of 5 stars  https://www.amazon.in/Nexus-MULTI-MILLION-BEST...  \n",
       "9  4.5 out of 5 stars  https://www.amazon.in/Mans-Search-Meaning-Vikt...  "
      ]
     },
     "execution_count": 117,
     "metadata": {},
     "output_type": "execute_result"
    }
   ],
   "source": [
    "# Display top 10 bestseller books in history genre\n",
    "history_df = pd.read_csv('./data/History.csv');\n",
    "history_df[:10]"
   ]
  },
  {
   "cell_type": "markdown",
   "metadata": {},
   "source": [
    "**Romance genre:**"
   ]
  },
  {
   "cell_type": "code",
   "execution_count": 118,
   "metadata": {},
   "outputs": [
    {
     "data": {
      "text/html": [
       "<div>\n",
       "<style scoped>\n",
       "    .dataframe tbody tr th:only-of-type {\n",
       "        vertical-align: middle;\n",
       "    }\n",
       "\n",
       "    .dataframe tbody tr th {\n",
       "        vertical-align: top;\n",
       "    }\n",
       "\n",
       "    .dataframe thead th {\n",
       "        text-align: right;\n",
       "    }\n",
       "</style>\n",
       "<table border=\"1\" class=\"dataframe\">\n",
       "  <thead>\n",
       "    <tr style=\"text-align: right;\">\n",
       "      <th></th>\n",
       "      <th>Book Name</th>\n",
       "      <th>Author</th>\n",
       "      <th>Rating</th>\n",
       "      <th>URL</th>\n",
       "    </tr>\n",
       "  </thead>\n",
       "  <tbody>\n",
       "    <tr>\n",
       "      <th>0</th>\n",
       "      <td>உயிரழகே என்னருகே (Tamil Edition)</td>\n",
       "      <td>சர ணிகா</td>\n",
       "      <td>4.2 out of 5 stars</td>\n",
       "      <td>https://www.amazon.in/%E0%AE%89%E0%AE%AF%E0%AE...</td>\n",
       "    </tr>\n",
       "    <tr>\n",
       "      <th>1</th>\n",
       "      <td>காதல் என்னை காதலிக்கவில்லை : Kaathal Ennai Kaa...</td>\n",
       "      <td>Infaa Alocious L</td>\n",
       "      <td>4.4 out of 5 stars</td>\n",
       "      <td>https://www.amazon.in/%E0%AE%95%E0%AE%BE%E0%AE...</td>\n",
       "    </tr>\n",
       "    <tr>\n",
       "      <th>2</th>\n",
       "      <td>Too Good to Be True : A smart, funny will-they...</td>\n",
       "      <td>Prajakta Koli</td>\n",
       "      <td>NaN</td>\n",
       "      <td>https://www.amazon.in/Too-Good-Be-True-will-th...</td>\n",
       "    </tr>\n",
       "    <tr>\n",
       "      <th>3</th>\n",
       "      <td>மறக்குமா மாமன் உள்ளம்? (Tamil Edition)</td>\n",
       "      <td>தேன் நிலா  J</td>\n",
       "      <td>4.5 out of 5 stars</td>\n",
       "      <td>https://www.amazon.in/%E0%AE%AE%E0%AE%B1%E0%AE...</td>\n",
       "    </tr>\n",
       "    <tr>\n",
       "      <th>4</th>\n",
       "      <td>எனை ஆட்கொள்வாயா உன் இதயச் சிறையில்! (Tamil Edi...</td>\n",
       "      <td>ஜீஷா ஶ்ரீ  Jeesha sri</td>\n",
       "      <td>5.0 out of 5 stars</td>\n",
       "      <td>https://www.amazon.in/%E0%AE%8E%E0%AE%A9%E0%AF...</td>\n",
       "    </tr>\n",
       "    <tr>\n",
       "      <th>5</th>\n",
       "      <td>விழி அழகில் மீண்டேனடி (Tamil Edition)</td>\n",
       "      <td>மீனா கண்ணன்  Meena kannan</td>\n",
       "      <td>4.5 out of 5 stars</td>\n",
       "      <td>https://www.amazon.in/%E0%AE%85%E0%AE%B4%E0%AE...</td>\n",
       "    </tr>\n",
       "    <tr>\n",
       "      <th>6</th>\n",
       "      <td>அதிரடிக்காரன் மச்சான் டி [ Athiradikkaran Mach...</td>\n",
       "      <td>Pradhanya  Kuzhali</td>\n",
       "      <td>4.3 out of 5 stars</td>\n",
       "      <td>https://www.amazon.in/%E0%AE%85%E0%AE%A4%E0%AE...</td>\n",
       "    </tr>\n",
       "    <tr>\n",
       "      <th>7</th>\n",
       "      <td>Cruel Winter with You (Under the Mistletoe col...</td>\n",
       "      <td>Ali Hazelwood</td>\n",
       "      <td>4.0 out of 5 stars</td>\n",
       "      <td>https://www.amazon.in/Cruel-Winter-Under-Mistl...</td>\n",
       "    </tr>\n",
       "    <tr>\n",
       "      <th>8</th>\n",
       "      <td>ஜனகரின் பொம்மி (Tamil Edition)</td>\n",
       "      <td>SAKTHI GURU</td>\n",
       "      <td>4.5 out of 5 stars</td>\n",
       "      <td>https://www.amazon.in/%E0%AE%9C%E0%AE%A9%E0%AE...</td>\n",
       "    </tr>\n",
       "    <tr>\n",
       "      <th>9</th>\n",
       "      <td>மேக மழைச்சாரல் : Mega mazhai saral (Tamil Edit...</td>\n",
       "      <td>Meera Krish</td>\n",
       "      <td>4.5 out of 5 stars</td>\n",
       "      <td>https://www.amazon.in/%E0%AE%AE%E0%AF%87%E0%AE...</td>\n",
       "    </tr>\n",
       "  </tbody>\n",
       "</table>\n",
       "</div>"
      ],
      "text/plain": [
       "                                           Book Name  \\\n",
       "0                   உயிரழகே என்னருகே (Tamil Edition)   \n",
       "1  காதல் என்னை காதலிக்கவில்லை : Kaathal Ennai Kaa...   \n",
       "2  Too Good to Be True : A smart, funny will-they...   \n",
       "3             மறக்குமா மாமன் உள்ளம்? (Tamil Edition)   \n",
       "4  எனை ஆட்கொள்வாயா உன் இதயச் சிறையில்! (Tamil Edi...   \n",
       "5              விழி அழகில் மீண்டேனடி (Tamil Edition)   \n",
       "6  அதிரடிக்காரன் மச்சான் டி [ Athiradikkaran Mach...   \n",
       "7  Cruel Winter with You (Under the Mistletoe col...   \n",
       "8                     ஜனகரின் பொம்மி (Tamil Edition)   \n",
       "9  மேக மழைச்சாரல் : Mega mazhai saral (Tamil Edit...   \n",
       "\n",
       "                      Author              Rating  \\\n",
       "0                    சர ணிகா  4.2 out of 5 stars   \n",
       "1           Infaa Alocious L  4.4 out of 5 stars   \n",
       "2              Prajakta Koli                 NaN   \n",
       "3               தேன் நிலா  J  4.5 out of 5 stars   \n",
       "4     ஜீஷா ஶ்ரீ  Jeesha sri   5.0 out of 5 stars   \n",
       "5  மீனா கண்ணன்  Meena kannan  4.5 out of 5 stars   \n",
       "6        Pradhanya  Kuzhali   4.3 out of 5 stars   \n",
       "7              Ali Hazelwood  4.0 out of 5 stars   \n",
       "8                SAKTHI GURU  4.5 out of 5 stars   \n",
       "9               Meera Krish   4.5 out of 5 stars   \n",
       "\n",
       "                                                 URL  \n",
       "0  https://www.amazon.in/%E0%AE%89%E0%AE%AF%E0%AE...  \n",
       "1  https://www.amazon.in/%E0%AE%95%E0%AE%BE%E0%AE...  \n",
       "2  https://www.amazon.in/Too-Good-Be-True-will-th...  \n",
       "3  https://www.amazon.in/%E0%AE%AE%E0%AE%B1%E0%AE...  \n",
       "4  https://www.amazon.in/%E0%AE%8E%E0%AE%A9%E0%AF...  \n",
       "5  https://www.amazon.in/%E0%AE%85%E0%AE%B4%E0%AE...  \n",
       "6  https://www.amazon.in/%E0%AE%85%E0%AE%A4%E0%AE...  \n",
       "7  https://www.amazon.in/Cruel-Winter-Under-Mistl...  \n",
       "8  https://www.amazon.in/%E0%AE%9C%E0%AE%A9%E0%AE...  \n",
       "9  https://www.amazon.in/%E0%AE%AE%E0%AF%87%E0%AE...  "
      ]
     },
     "execution_count": 118,
     "metadata": {},
     "output_type": "execute_result"
    }
   ],
   "source": [
    "# Display top 10 bestseller books in romance genre\n",
    "romance_df = pd.read_csv('./data/Romance.csv');\n",
    "romance_df[:10]"
   ]
  },
  {
   "cell_type": "markdown",
   "metadata": {},
   "source": [
    "**Travel genre:**"
   ]
  },
  {
   "cell_type": "code",
   "execution_count": 119,
   "metadata": {},
   "outputs": [
    {
     "data": {
      "text/html": [
       "<div>\n",
       "<style scoped>\n",
       "    .dataframe tbody tr th:only-of-type {\n",
       "        vertical-align: middle;\n",
       "    }\n",
       "\n",
       "    .dataframe tbody tr th {\n",
       "        vertical-align: top;\n",
       "    }\n",
       "\n",
       "    .dataframe thead th {\n",
       "        text-align: right;\n",
       "    }\n",
       "</style>\n",
       "<table border=\"1\" class=\"dataframe\">\n",
       "  <thead>\n",
       "    <tr style=\"text-align: right;\">\n",
       "      <th></th>\n",
       "      <th>Book Name</th>\n",
       "      <th>Author</th>\n",
       "      <th>Rating</th>\n",
       "      <th>URL</th>\n",
       "    </tr>\n",
       "  </thead>\n",
       "  <tbody>\n",
       "    <tr>\n",
       "      <th>0</th>\n",
       "      <td>Days at the Morisaki Bookshop : The Internatio...</td>\n",
       "      <td>Satoshi Yagisawa</td>\n",
       "      <td>4.3 out of 5 stars</td>\n",
       "      <td>https://www.amazon.in/Days-Morisaki-Bookshop-I...</td>\n",
       "    </tr>\n",
       "    <tr>\n",
       "      <th>1</th>\n",
       "      <td>Children's First Mythology Stories - Pack of 5...</td>\n",
       "      <td>Wonder House Books</td>\n",
       "      <td>4.5 out of 5 stars</td>\n",
       "      <td>https://www.amazon.in/Childrens-First-Mytholog...</td>\n",
       "    </tr>\n",
       "    <tr>\n",
       "      <th>2</th>\n",
       "      <td>Relaxing Mandala Coloring Book For Adults</td>\n",
       "      <td>Wonder House Books</td>\n",
       "      <td>4.4 out of 5 stars</td>\n",
       "      <td>https://www.amazon.in/Relaxing-Mandala-Colorin...</td>\n",
       "    </tr>\n",
       "    <tr>\n",
       "      <th>3</th>\n",
       "      <td>Masala Lab</td>\n",
       "      <td>Ashok Krish</td>\n",
       "      <td>4.5 out of 5 stars</td>\n",
       "      <td>https://www.amazon.in/Masala-Lab-Science-India...</td>\n",
       "    </tr>\n",
       "    <tr>\n",
       "      <th>4</th>\n",
       "      <td>Normal People</td>\n",
       "      <td>Sally Rooney</td>\n",
       "      <td>4.1 out of 5 stars</td>\n",
       "      <td>https://www.amazon.in/Normal-People-Sally-Roon...</td>\n",
       "    </tr>\n",
       "    <tr>\n",
       "      <th>5</th>\n",
       "      <td>SATTVIK COOKING: MODERN AVATARS OF VEDIC FOODS</td>\n",
       "      <td>Hansaji J. Yogendra</td>\n",
       "      <td>4.4 out of 5 stars</td>\n",
       "      <td>https://www.amazon.in/SATTVIK-COOKING-MODERN-A...</td>\n",
       "    </tr>\n",
       "    <tr>\n",
       "      <th>6</th>\n",
       "      <td>You are the Best Friend: A True story of falli...</td>\n",
       "      <td>Ajay K Pandey</td>\n",
       "      <td>4.4 out of 5 stars</td>\n",
       "      <td>https://www.amazon.in/You-are-Best-Friend-Auth...</td>\n",
       "    </tr>\n",
       "    <tr>\n",
       "      <th>7</th>\n",
       "      <td>Flowers Coloring Book for adults</td>\n",
       "      <td>Wonder House Books</td>\n",
       "      <td>4.4 out of 5 stars</td>\n",
       "      <td>https://www.amazon.in/Flowers-Coloring-adults-...</td>\n",
       "    </tr>\n",
       "    <tr>\n",
       "      <th>8</th>\n",
       "      <td>Zen: The Art of Simple Living</td>\n",
       "      <td>Shunmyo Masuno</td>\n",
       "      <td>4.6 out of 5 stars</td>\n",
       "      <td>https://www.amazon.in/Zen-Simple-Living-Shunmy...</td>\n",
       "    </tr>\n",
       "    <tr>\n",
       "      <th>9</th>\n",
       "      <td>India &amp; World Map ( Both Political &amp; Physical ...</td>\n",
       "      <td>Vidya Chitr Prakashan</td>\n",
       "      <td>4.4 out of 5 stars</td>\n",
       "      <td>https://www.amazon.in/Political-Physical-Const...</td>\n",
       "    </tr>\n",
       "  </tbody>\n",
       "</table>\n",
       "</div>"
      ],
      "text/plain": [
       "                                           Book Name                 Author  \\\n",
       "0  Days at the Morisaki Bookshop : The Internatio...       Satoshi Yagisawa   \n",
       "1  Children's First Mythology Stories - Pack of 5...     Wonder House Books   \n",
       "2          Relaxing Mandala Coloring Book For Adults     Wonder House Books   \n",
       "3                                         Masala Lab            Ashok Krish   \n",
       "4                                      Normal People           Sally Rooney   \n",
       "5     SATTVIK COOKING: MODERN AVATARS OF VEDIC FOODS    Hansaji J. Yogendra   \n",
       "6  You are the Best Friend: A True story of falli...          Ajay K Pandey   \n",
       "7                   Flowers Coloring Book for adults     Wonder House Books   \n",
       "8                      Zen: The Art of Simple Living         Shunmyo Masuno   \n",
       "9  India & World Map ( Both Political & Physical ...  Vidya Chitr Prakashan   \n",
       "\n",
       "               Rating                                                URL  \n",
       "0  4.3 out of 5 stars  https://www.amazon.in/Days-Morisaki-Bookshop-I...  \n",
       "1  4.5 out of 5 stars  https://www.amazon.in/Childrens-First-Mytholog...  \n",
       "2  4.4 out of 5 stars  https://www.amazon.in/Relaxing-Mandala-Colorin...  \n",
       "3  4.5 out of 5 stars  https://www.amazon.in/Masala-Lab-Science-India...  \n",
       "4  4.1 out of 5 stars  https://www.amazon.in/Normal-People-Sally-Roon...  \n",
       "5  4.4 out of 5 stars  https://www.amazon.in/SATTVIK-COOKING-MODERN-A...  \n",
       "6  4.4 out of 5 stars  https://www.amazon.in/You-are-Best-Friend-Auth...  \n",
       "7  4.4 out of 5 stars  https://www.amazon.in/Flowers-Coloring-adults-...  \n",
       "8  4.6 out of 5 stars  https://www.amazon.in/Zen-Simple-Living-Shunmy...  \n",
       "9  4.4 out of 5 stars  https://www.amazon.in/Political-Physical-Const...  "
      ]
     },
     "execution_count": 119,
     "metadata": {},
     "output_type": "execute_result"
    }
   ],
   "source": [
    "# Display top 10 bestseller books in travel genre\n",
    "travel_df = pd.read_csv('./data/Travel.csv');\n",
    "travel_df[:10]"
   ]
  },
  {
   "cell_type": "markdown",
   "metadata": {},
   "source": [
    "## 7. Summary"
   ]
  },
  {
   "cell_type": "markdown",
   "metadata": {},
   "source": [
    "Here is what we've covered in this notebook:\n",
    "1. Download the bestseller book website of Amazon using `requests`.\n",
    "2. Parse the HTML source code using beautiful soup.\n",
    "3. Extract the name and URL of each category page in form of data frame.\n",
    "4. For each book category:\n",
    "    - Parse the HTML source code for each category page URL using beautiful soup.\n",
    "    - Extract name, author, rating, and URL of each bestseller book.\n",
    "    - Compile the information into a dictionary.\n",
    "    - Return the list of books with informations: name, author...\n",
    "5. For each category/ genre, we save the data frame into a separate csv file, and named with category.\n",
    "6. During the running, there will be error with loading the website. To avoid create duplicate csv file, a checkpoint is created to check if the csv file of a category exists. If so, that category will be skipped.\n",
    "7. To facilitate organizing csv file, a folder is created to contain all csv files of each genre."
   ]
  },
  {
   "cell_type": "markdown",
   "metadata": {},
   "source": [
    "## 8. Future Work"
   ]
  },
  {
   "cell_type": "markdown",
   "metadata": {},
   "source": [
    "- One of the future work is convert the rating into numbers so that we could manipulate the data. For example, we can find the maximum or minimum rating, and find some statistic information.\n",
    "- Moreover, we could extract the number of the reviews and relate to the rating star. For example, if the rating is 4.9/5 but there are few reviews, it will not be reliable."
   ]
  },
  {
   "cell_type": "markdown",
   "metadata": {},
   "source": [
    "## 9. Reference"
   ]
  },
  {
   "cell_type": "markdown",
   "metadata": {},
   "source": [
    "**Refernce:**"
   ]
  },
  {
   "cell_type": "markdown",
   "metadata": {},
   "source": [
    "https://jovian.ai/learn/zero-to-data-analyst-bootcamp/assignment/project-web-scraping-with-python"
   ]
  },
  {
   "cell_type": "code",
   "execution_count": null,
   "metadata": {},
   "outputs": [],
   "source": []
  }
 ],
 "metadata": {
  "kernelspec": {
   "display_name": "Python 3 (ipykernel)",
   "language": "python",
   "name": "python3"
  },
  "language_info": {
   "codemirror_mode": {
    "name": "ipython",
    "version": 3
   },
   "file_extension": ".py",
   "mimetype": "text/x-python",
   "name": "python",
   "nbconvert_exporter": "python",
   "pygments_lexer": "ipython3",
   "version": "3.11.7"
  }
 },
 "nbformat": 4,
 "nbformat_minor": 4
}
