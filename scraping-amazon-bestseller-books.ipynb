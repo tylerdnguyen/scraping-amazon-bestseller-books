{
 "cells": [
  {
   "cell_type": "markdown",
   "metadata": {},
   "source": [
    "# Scraping Top Bestseller Book in Amazon Project Using Python\n",
    "\n",
    "**Amazon Bestseller Books** website is a popular website where people can find top popular books. This site contains many genres. In each genre, books are ranked based on rating and the number of buyers. Some genres includes action & adventure, travel, and romance. In general, information of a book contains name, author, rating, number of reviewers, and its URL. They are packed in a tag, and our job is to use function to extract the information from the tag.\n",
    "![](https://hips.hearstapps.com/hmg-prod.s3.amazonaws.com/images/best-selling-books-2020-1607638264.png)\n",
    "\n",
    "**Purpose**: This project showed the method to scrape the information of the bestseller books such as name, author, rating, and URL in each genre in Amazone website: https://www.amazon.in/gp/bestsellers/books/. The information was represented as data frame, and was saved in csv file for each category. To organize easily, a folder was created to contained all the csv files at the final.\n",
    "- During introducing procedure, this project also mentioned tools used such as Python, requests, Beautiful Soup, Pandas..., which were used for scraping the bestseller books in Amazon website\n",
    "![](https://imgur.com/adDRt5p)\n",
    "\n",
    "**Project Outline:**\n",
    "- Scraped Website: https://www.amazon.in/gp/bestsellers/books/\n",
    "- Get a list of genres. For each genre, we'll get the genre name and genre page URL\n",
    "- For each genre, we'll get information of the bestseller books from that genre page.\n",
    "- For each book, we'll get name of the book, author name, rating, and the book's URL.\n",
    "- For example, in action & adventure genre:\n",
    "```\n",
    "Book Name,Author,Rating,URL\n",
    "Harry Potter and the Philosopher's Stone,J.K. Rowling,4.7 out of 5 stars,https://www.amazon.in/Harry-Potter-Philosophers-Stone-Rowling-ebook/dp/B019PIOJYU/ref=zg_bs_1318158031_1/000-0000000-0000000?pd_rd_i=B019PIOJYU&psc=1\n",
    "அன்புள்ள மாயவனே (Tamil Edition),ammu yoga,4.3 out of 5 stars,https://www.amazon.in/%E0%AE%85%E0%AE%A9%E0%AF%8D%E0%AE%AA%E0%AF%81%E0%AE%B3%E0%AF%8D%E0%AE%B3-%E0%AE%AE%E0%AE%BE%E0%AE%AF%E0%AE%B5%E0%AE%A9%E0%AF%87-Tamil-ammu-yoga-ebook/dp/B0B6PSKHHJ/ref=zg_bs_1318158031_2/000-0000000-0000000?pd_rd_i=B0B6PSKHHJ&psc=1\n",
    "\"The Silent Patient: The record-breaking, multimillion copy Sunday Times bestselling thriller and Richard & Judy book club pick\",Alex Michaelides,4.5 out of 5 stars,https://www.amazon.in/Silent-Patient-Alex-Michaelides/dp/1409181634/ref=zg_bs_1318158031_3/000-0000000-0000000?pd_rd_i=1409181634&psc=1\n",
    "```"
   ]
  },
  {
   "cell_type": "markdown",
   "metadata": {},
   "source": [
    "## 1. Scrape the category page from Amazon\n",
    "\n",
    "**Objective:** To obtain the list of book category from the bestseller website and their urls."
   ]
  },
  {
   "cell_type": "markdown",
   "metadata": {},
   "source": [
    "- **Procedure**:\n",
    "    - Use requests to download the Amazone Bestseller page.\n",
    "    - Use BS4 to parse and extract information from each category page (name and url of each category)\n",
    "        - To extract category name and its url, two functions were created: get_category_name(doc) and get_category_url(doc).\n",
    "    - Convert to a pandas dataframe containing name and URL of category page."
   ]
  },
  {
   "cell_type": "markdown",
   "metadata": {},
   "source": [
    "**Install and Import necessary libraries:**"
   ]
  },
  {
   "cell_type": "code",
   "execution_count": 1,
   "metadata": {},
   "outputs": [],
   "source": [
    "!pip install requests pandas beautifulsoup4 --upgrade --quiet"
   ]
  },
  {
   "cell_type": "code",
   "execution_count": 2,
   "metadata": {},
   "outputs": [],
   "source": [
    "import requests\n",
    "import pandas as pd\n",
    "import os\n",
    "from bs4 import BeautifulSoup"
   ]
  },
  {
   "cell_type": "markdown",
   "metadata": {},
   "source": [
    "**Function to download the Bestseller Amazon page:**"
   ]
  },
  {
   "cell_type": "code",
   "execution_count": 3,
   "metadata": {},
   "outputs": [],
   "source": [
    "def get_amazon_page():\n",
    "    #TODO: this function return the book category page\n",
    "    url = 'https://www.amazon.in/gp/bestsellers/books/'\n",
    "    response = requests.get(url)\n",
    "    if response.status_code != 200:\n",
    "        raise Exception('Failed to load page {}'.format(url))\n",
    "    doc = BeautifulSoup(response.text,'html.parser')\n",
    "    return doc"
   ]
  },
  {
   "cell_type": "code",
   "execution_count": 4,
   "metadata": {},
   "outputs": [],
   "source": [
    "doc = get_amazon_page()"
   ]
  },
  {
   "cell_type": "code",
   "execution_count": 5,
   "metadata": {},
   "outputs": [
    {
     "data": {
      "text/plain": [
       "bs4.BeautifulSoup"
      ]
     },
     "execution_count": 5,
     "metadata": {},
     "output_type": "execute_result"
    }
   ],
   "source": [
    "type(doc)"
   ]
  },
  {
   "cell_type": "markdown",
   "metadata": {},
   "source": [
    "**Some helper functions to parse and extract information of each book category page:**"
   ]
  },
  {
   "cell_type": "code",
   "execution_count": 6,
   "metadata": {},
   "outputs": [],
   "source": [
    "def get_category_name(cat_doc):\n",
    "    # Result the name of each category\n",
    "    select_class=\"_p13n-zg-nav-tree-all_style_zg-browse-item__1rdKf _p13n-zg-nav-tree-all_style_zg-browse-height-large__1z5B8\";\n",
    "    class_tags = cat_doc.find_all(class_=select_class)\n",
    "    categories_tag = class_tags[1:]\n",
    "    name_categories = [];\n",
    "    for tag in categories_tag:\n",
    "        name_categories.append(tag.text)\n",
    "    return name_categories"
   ]
  },
  {
   "cell_type": "markdown",
   "metadata": {},
   "source": [
    " `get_category_name()` received the page content. Then it find all tags containing name of the book category, extract, and return the name of each book category."
   ]
  },
  {
   "cell_type": "code",
   "execution_count": 7,
   "metadata": {},
   "outputs": [],
   "source": [
    "def get_category_url(cat_doc):\n",
    "    # Return the url of each category\n",
    "    select_class=\"_p13n-zg-nav-tree-all_style_zg-browse-item__1rdKf _p13n-zg-nav-tree-all_style_zg-browse-height-large__1z5B8\";\n",
    "    class_tags = cat_doc.find_all(class_=select_class)\n",
    "    categories_tag = class_tags[1:]\n",
    "    category_urls = [];\n",
    "    base_url = 'https://www.amazon.in';\n",
    "    for tag in categories_tag:\n",
    "        a_tag = tag.find('a')\n",
    "        category_urls.append(base_url + a_tag['href'])\n",
    "    return category_urls"
   ]
  },
  {
   "cell_type": "markdown",
   "metadata": {},
   "source": [
    " `get_category_url()` finds all tags of categories and extract, and return URL information."
   ]
  },
  {
   "cell_type": "markdown",
   "metadata": {},
   "source": [
    "- **Explain:**\n",
    "    - From the bestseller page, first inspect each category URL, and find the tag represent for each category page.\n",
    "    - to find the name and link of each category, use `find_all` to find all tags that has the `class`: `_p13n-zg-nav-tree-all_style_zg-browse-item__1rdKf _p13n-zg-nav-tree-all_style_zg-browse-height-large__1z5B8`\n",
    "    - to get the name, simply use `.text` for each tag above.\n",
    "    - to get the link, we need to create a loop, for each tag, use `find` to search `a` tag with attribute `href`. Finally, combine with the `base_url: https://www.amazon.in` to form the complete link\n",
    "   \n",
    "![](https://i.imgur.com/URwK9Dy.png)"
   ]
  },
  {
   "cell_type": "markdown",
   "metadata": {},
   "source": [
    "**Results:**"
   ]
  },
  {
   "cell_type": "code",
   "execution_count": 8,
   "metadata": {},
   "outputs": [],
   "source": [
    "book_categories = get_category_name(doc)"
   ]
  },
  {
   "cell_type": "code",
   "execution_count": 9,
   "metadata": {},
   "outputs": [
    {
     "data": {
      "text/plain": [
       "34"
      ]
     },
     "execution_count": 9,
     "metadata": {},
     "output_type": "execute_result"
    }
   ],
   "source": [
    "len(book_categories)"
   ]
  },
  {
   "cell_type": "code",
   "execution_count": 10,
   "metadata": {},
   "outputs": [
    {
     "data": {
      "text/plain": [
       "['Action & Adventure',\n",
       " 'Arts, Film & Photography',\n",
       " 'Biographies, Diaries & True Accounts',\n",
       " 'Business & Economics',\n",
       " \"Children's & Young Adult\"]"
      ]
     },
     "execution_count": 10,
     "metadata": {},
     "output_type": "execute_result"
    }
   ],
   "source": [
    "book_categories[:5]"
   ]
  },
  {
   "cell_type": "code",
   "execution_count": 11,
   "metadata": {},
   "outputs": [
    {
     "data": {
      "text/plain": [
       "34"
      ]
     },
     "execution_count": 11,
     "metadata": {},
     "output_type": "execute_result"
    }
   ],
   "source": [
    "category_urls = get_category_url(doc);\n",
    "len(category_urls)"
   ]
  },
  {
   "cell_type": "code",
   "execution_count": 12,
   "metadata": {},
   "outputs": [
    {
     "data": {
      "text/plain": [
       "['https://www.amazon.in/gp/bestsellers/books/1318158031',\n",
       " 'https://www.amazon.in/gp/bestsellers/books/1318052031',\n",
       " 'https://www.amazon.in/gp/bestsellers/books/1318064031',\n",
       " 'https://www.amazon.in/gp/bestsellers/books/1318068031',\n",
       " 'https://www.amazon.in/gp/bestsellers/books/1318073031']"
      ]
     },
     "execution_count": 12,
     "metadata": {},
     "output_type": "execute_result"
    }
   ],
   "source": [
    "category_urls[:5]"
   ]
  },
  {
   "cell_type": "markdown",
   "metadata": {},
   "source": [
    "## 2. Get info of bestseller books in the page of each genre\n",
    "\n",
    "**Objective**: In this section, we will parse and extract info of each bestseller book for each genre such as book name, author, rating, and URL for EACH category page."
   ]
  },
  {
   "cell_type": "markdown",
   "metadata": {},
   "source": [
    "- **Procedure**:\n",
    "    - Use requests to download a category page.\n",
    "    - Use functions to find all tags containing information such as name, author, rating, and URL of books and pass the tag one-by-one to helper functions.\n",
    "    - Use helper functions that take a tag of each book and return the info such as name, author, rate, and URL separately\n",
    "    - Convert to a pandas dataframe containing information of books."
   ]
  },
  {
   "cell_type": "markdown",
   "metadata": {},
   "source": [
    "**For example:** Let take the first genre: Action and Adventure. Below is the URL of action and adventure category."
   ]
  },
  {
   "cell_type": "code",
   "execution_count": 13,
   "metadata": {},
   "outputs": [
    {
     "name": "stdout",
     "output_type": "stream",
     "text": [
      "Action & Adventure https://www.amazon.in/gp/bestsellers/books/1318158031\n"
     ]
    }
   ],
   "source": [
    "print(book_categories[0],category_urls[0])"
   ]
  },
  {
   "cell_type": "markdown",
   "metadata": {},
   "source": [
    "**Function to download a category page:**"
   ]
  },
  {
   "cell_type": "code",
   "execution_count": 14,
   "metadata": {},
   "outputs": [],
   "source": [
    "def get_category_page(cat_url):\n",
    "    # This function download a category page\n",
    "    response = requests.get(cat_url)\n",
    "    if response.status_code != 200:\n",
    "        raise Exception('Failed to load page {}'.format(cat_url))\n",
    "    cat_doc = BeautifulSoup(response.text,'html.parser')\n",
    "    return cat_doc"
   ]
  },
  {
   "cell_type": "markdown",
   "metadata": {},
   "source": [
    " `get_category_page()` is used to download each book category page."
   ]
  },
  {
   "cell_type": "code",
   "execution_count": 15,
   "metadata": {},
   "outputs": [],
   "source": [
    "cat_doc = get_category_page(category_urls[0])"
   ]
  },
  {
   "cell_type": "code",
   "execution_count": 16,
   "metadata": {},
   "outputs": [
    {
     "data": {
      "text/plain": [
       "bs4.BeautifulSoup"
      ]
     },
     "execution_count": 16,
     "metadata": {},
     "output_type": "execute_result"
    }
   ],
   "source": [
    "type(cat_doc)"
   ]
  },
  {
   "cell_type": "markdown",
   "metadata": {},
   "source": [
    "**Function to get info of books:**"
   ]
  },
  {
   "cell_type": "code",
   "execution_count": 17,
   "metadata": {},
   "outputs": [],
   "source": [
    "def get_category_book(book_doc):\n",
    "    #Describe: this function return the dataframe of books info\n",
    "    \n",
    "    #Extract book name and author tags\n",
    "    book_class = 'zg-grid-general-faceout';\n",
    "    book_tags = book_doc.find_all(class_=book_class);\n",
    "    \n",
    "    #Get book info\n",
    "    book_category_dict = {\n",
    "    'Book Name' :[],\n",
    "    'Author' :[],\n",
    "    'Rating' :[],\n",
    "    'URL' :[],\n",
    "    }\n",
    "    \n",
    "    for i in range(len(book_tags)):\n",
    "        book_info = get_book_category_info(book_tags[i]);\n",
    "        book_category_dict['Book Name'].append(book_info[0]);\n",
    "        book_category_dict['Author'].append(book_info[1]);\n",
    "        book_category_dict['Rating'].append(book_info[2]);\n",
    "        book_category_dict['URL'].append(book_info[3]);\n",
    "    return pd.DataFrame(book_category_dict)"
   ]
  },
  {
   "cell_type": "markdown",
   "metadata": {},
   "source": [
    " `get_category_book()` is used to find all tags for each book by specifying the class attribute. These tags will be passed one-by-one to another helper function `get_book_category_info`, which return the lists of book name, author, rating and URL. This function also creates the dataframe containing info of each book such as name, author, rating and URL"
   ]
  },
  {
   "cell_type": "markdown",
   "metadata": {},
   "source": [
    "**Help Function taking each tag and return info of each book:**"
   ]
  },
  {
   "cell_type": "code",
   "execution_count": 18,
   "metadata": {},
   "outputs": [],
   "source": [
    "def get_book_category_info(book_tag):\n",
    "    # Describe: This function takes each tag and return info for each book\n",
    "    #Book name\n",
    "    name = book_name(book_tag);\n",
    "    #Author\n",
    "    author = book_author(book_tag);\n",
    "    #link book\n",
    "    link = url(book_tag);\n",
    "    #Rating: contain check if there is rating for a book.\n",
    "    book_rate = rating(book_tag);\n",
    "    return name,author,book_rate,link"
   ]
  },
  {
   "cell_type": "markdown",
   "metadata": {},
   "source": [
    " `get_book_category_info()` recieves the tag of each book. Then it has 4 helper inner functions to extrac info of book such as name, author, rating and URL.\n",
    " - `book_name` used to return the name of the book\n",
    " - `book_author` used to return the name of author\n",
    " - `rating` used to return the rating of the book\n",
    " - `link` used to return the URL of the book"
   ]
  },
  {
   "cell_type": "code",
   "execution_count": 19,
   "metadata": {},
   "outputs": [],
   "source": [
    "def book_name(tag):\n",
    "    # This function return book name fromt tag\n",
    "    span_tag = tag.find('span');\n",
    "    return span_tag.text\n",
    "\n",
    "def book_author(tag):\n",
    "    # this function return author\n",
    "    author_class = 'a-row a-size-small'\n",
    "    author_tag = tag.find(class_=author_class)\n",
    "    return author_tag.text\n",
    "\n",
    "def rating(tag):\n",
    "    # This function return the rating. It also ontain check if there is rating for a book.\n",
    "    rate_tag = tag.find(class_='a-icon-alt')\n",
    "    if rate_tag == None:\n",
    "        book_rate = 'NA'\n",
    "    else:\n",
    "        book_rate = rate_tag.text\n",
    "    return book_rate\n",
    "\n",
    "def url(tag):\n",
    "    base_url = 'https://www.amazon.in'\n",
    "    a_tag = tag.find('a')\n",
    "    return base_url + a_tag['href']"
   ]
  },
  {
   "cell_type": "markdown",
   "metadata": {},
   "source": [
    "- **Explain Procedure:**\n",
    "    - First, for each category, download the category page by `get_category_page` by passing its URL to bs4.\n",
    "    - Using `get_category_book()` to find list of tags containing info of all books by using `find_all` to find all tags that has the `class`: `zg-grid-general-faceout`.\n",
    "    - Then create a loop to pass every tag of each book to the helper function `get_book_category_info()`. This function will return the name, author, rating and book url.\n",
    "    - In `get_book_category_info()`, we have 4 inner helper functions that extract 4 types of info: `book_name`, `book_author`, `rating`, and `url`.\n",
    "   \n",
    "![](https://i.imgur.com/rJG6TPJ.png)"
   ]
  },
  {
   "cell_type": "markdown",
   "metadata": {},
   "source": [
    "**Example Result:**"
   ]
  },
  {
   "cell_type": "code",
   "execution_count": 20,
   "metadata": {},
   "outputs": [
    {
     "data": {
      "text/html": [
       "<div>\n",
       "<style scoped>\n",
       "    .dataframe tbody tr th:only-of-type {\n",
       "        vertical-align: middle;\n",
       "    }\n",
       "\n",
       "    .dataframe tbody tr th {\n",
       "        vertical-align: top;\n",
       "    }\n",
       "\n",
       "    .dataframe thead th {\n",
       "        text-align: right;\n",
       "    }\n",
       "</style>\n",
       "<table border=\"1\" class=\"dataframe\">\n",
       "  <thead>\n",
       "    <tr style=\"text-align: right;\">\n",
       "      <th></th>\n",
       "      <th>Book Name</th>\n",
       "      <th>Author</th>\n",
       "      <th>Rating</th>\n",
       "      <th>URL</th>\n",
       "    </tr>\n",
       "  </thead>\n",
       "  <tbody>\n",
       "    <tr>\n",
       "      <th>0</th>\n",
       "      <td>War of Lanka (Ram Chandra Series Book 4)</td>\n",
       "      <td>Amish Tripathi</td>\n",
       "      <td>NA</td>\n",
       "      <td>https://www.amazon.in/War-Lanka-Ram-Chandra-Bo...</td>\n",
       "    </tr>\n",
       "    <tr>\n",
       "      <th>1</th>\n",
       "      <td>Harry Potter and the Philosopher's Stone</td>\n",
       "      <td>J.K. Rowling</td>\n",
       "      <td>4.7 out of 5 stars</td>\n",
       "      <td>https://www.amazon.in/Harry-Potter-Philosopher...</td>\n",
       "    </tr>\n",
       "    <tr>\n",
       "      <th>2</th>\n",
       "      <td>The Complete Novels of Sherlock Holmes</td>\n",
       "      <td>Arthur Conan Doyle</td>\n",
       "      <td>4.5 out of 5 stars</td>\n",
       "      <td>https://www.amazon.in/Complete-Novels-Sherlock...</td>\n",
       "    </tr>\n",
       "    <tr>\n",
       "      <th>3</th>\n",
       "      <td>The Silent Patient: The record-breaking, multi...</td>\n",
       "      <td>Alex Michaelides</td>\n",
       "      <td>4.5 out of 5 stars</td>\n",
       "      <td>https://www.amazon.in/Silent-Patient-Alex-Mich...</td>\n",
       "    </tr>\n",
       "    <tr>\n",
       "      <th>4</th>\n",
       "      <td>அன்புள்ள மாயவனே (Tamil Edition)</td>\n",
       "      <td>ammu yoga</td>\n",
       "      <td>4.3 out of 5 stars</td>\n",
       "      <td>https://www.amazon.in/%E0%AE%85%E0%AE%A9%E0%AF...</td>\n",
       "    </tr>\n",
       "  </tbody>\n",
       "</table>\n",
       "</div>"
      ],
      "text/plain": [
       "                                           Book Name              Author  \\\n",
       "0           War of Lanka (Ram Chandra Series Book 4)      Amish Tripathi   \n",
       "1           Harry Potter and the Philosopher's Stone        J.K. Rowling   \n",
       "2             The Complete Novels of Sherlock Holmes  Arthur Conan Doyle   \n",
       "3  The Silent Patient: The record-breaking, multi...    Alex Michaelides   \n",
       "4                    அன்புள்ள மாயவனே (Tamil Edition)           ammu yoga   \n",
       "\n",
       "               Rating                                                URL  \n",
       "0                  NA  https://www.amazon.in/War-Lanka-Ram-Chandra-Bo...  \n",
       "1  4.7 out of 5 stars  https://www.amazon.in/Harry-Potter-Philosopher...  \n",
       "2  4.5 out of 5 stars  https://www.amazon.in/Complete-Novels-Sherlock...  \n",
       "3  4.5 out of 5 stars  https://www.amazon.in/Silent-Patient-Alex-Mich...  \n",
       "4  4.3 out of 5 stars  https://www.amazon.in/%E0%AE%85%E0%AE%A9%E0%AF...  "
      ]
     },
     "execution_count": 20,
     "metadata": {},
     "output_type": "execute_result"
    }
   ],
   "source": [
    "get_category_book(cat_doc)[:5]"
   ]
  },
  {
   "cell_type": "markdown",
   "metadata": {},
   "source": [
    "## 3. Saving and Organizing data"
   ]
  },
  {
   "cell_type": "markdown",
   "metadata": {},
   "source": [
    "**Function to scrape info of bestseller books in ALL catgories and save as csv files in each category folder.**"
   ]
  },
  {
   "cell_type": "code",
   "execution_count": 21,
   "metadata": {},
   "outputs": [],
   "source": [
    "def scrape_book_bestseller():\n",
    "    print('Scraping the top bestseller book in AMAZON:')\n",
    "    category_df = scrape_category()\n",
    "    \n",
    "    os.makedirs('data',exist_ok=True)\n",
    "    for index,row in category_df.iterrows():\n",
    "        print('Scraping the top bestsellers book for {} genre'.format(row['Book Categories']))\n",
    "        scrape_category_book(row['URL'],'data/{}.csv'.format(row['Book Categories']))"
   ]
  },
  {
   "cell_type": "markdown",
   "metadata": {},
   "source": [
    "- The function above is the general outermost function, and is the function we'll call to scrape all info of books in ALL categories. It has two helper functions:\n",
    "    - `scrape_category()` to scrape the name of each category and the URL and create a data frame. It contains `get_amazon_page` helper function to download bestseller book page by using requests. Moreover, this function contain 2 inner helper functions `get_category_name` and `get_category_url` above to scrape the info of each category."
   ]
  },
  {
   "cell_type": "code",
   "execution_count": 22,
   "metadata": {},
   "outputs": [],
   "source": [
    "def scrape_category():\n",
    "    doc =  get_amazon_page();\n",
    "    category_dict ={\n",
    "    'Book Categories': get_category_name(doc),\n",
    "    'URL': get_category_url(doc)\n",
    "    }\n",
    "    return pd.DataFrame(category_dict);"
   ]
  },
  {
   "cell_type": "markdown",
   "metadata": {},
   "source": [
    "- `scrape_category_book()` to scrape books in each category. It belongs to a loop that pass name and URL of each category in the list above. Inside this function, we see the `get_category_book` and `get_category_page` function.\n",
    "    - First `scrape_category_book` recieve the URL of a category and its saving path. Then the function check if the saving path exists. If so, the cvs file is created, and no need for scraping. If not, it will pass the url to `get_category_page()` function to download the category page by using bs4. Then `get_category_book()` take file doc from the previous function to parse and extract info of each book in the category page and create the list. As we know, inside `get_category_book()`, we have another helper function that take a tag of each book to extract the information.\n",
    "    - This function also has a checkpoint. During running the program, there will be error with fetching the web page. So, to avoid create the same csv file. It wil check the if the csv file exists by checking the savving path. If the file exists, that category will be skipped."
   ]
  },
  {
   "cell_type": "code",
   "execution_count": 23,
   "metadata": {},
   "outputs": [],
   "source": [
    "def scrape_category_book(cat_url,path):\n",
    "    if os.path.exists(path):\n",
    "        print('The file {} already exists. Skipping...'.format(path))\n",
    "        return\n",
    "    book_df = get_category_book(get_category_page(cat_url))\n",
    "    book_df.to_csv(path, index = None)"
   ]
  },
  {
   "cell_type": "markdown",
   "metadata": {},
   "source": [
    "## 4. Put it together - Final Code"
   ]
  },
  {
   "cell_type": "markdown",
   "metadata": {},
   "source": [
    "#### a. Function of scraping category"
   ]
  },
  {
   "cell_type": "code",
   "execution_count": 24,
   "metadata": {},
   "outputs": [],
   "source": [
    "def get_category_name(cat_doc):\n",
    "    # Result the name of each category\n",
    "    select_class=\"_p13n-zg-nav-tree-all_style_zg-browse-item__1rdKf _p13n-zg-nav-tree-all_style_zg-browse-height-large__1z5B8\";\n",
    "    class_tags = cat_doc.find_all(class_=select_class)\n",
    "    categories_tag = class_tags[1:]\n",
    "    name_categories = [];\n",
    "    for tag in categories_tag:\n",
    "        name_categories.append(tag.text)\n",
    "    return name_categories\n",
    "\n",
    "def get_category_url(cat_doc):\n",
    "    # Return the url of each category\n",
    "    select_class=\"_p13n-zg-nav-tree-all_style_zg-browse-item__1rdKf _p13n-zg-nav-tree-all_style_zg-browse-height-large__1z5B8\";\n",
    "    class_tags = cat_doc.find_all(class_=select_class)\n",
    "    categories_tag = class_tags[1:]\n",
    "    category_urls = [];\n",
    "    base_url = 'https://www.amazon.in';\n",
    "    for tag in categories_tag:\n",
    "        a_tag = tag.find('a')\n",
    "        category_urls.append(base_url + a_tag['href'])\n",
    "    return category_urls\n",
    "\n",
    "def get_amazon_page():\n",
    "    #TODO: this function return the book category page\n",
    "    url = 'https://www.amazon.in/gp/bestsellers/books/'\n",
    "    response = requests.get(url)\n",
    "    if response.status_code != 200:\n",
    "        raise Exception('Failed to load page {}'.format(url))\n",
    "    doc = BeautifulSoup(response.text,'html.parser')\n",
    "    return doc\n",
    "\n",
    "def scrape_category():\n",
    "    # This function return the list of category contain name and URL\n",
    "    doc =  get_amazon_page();\n",
    "    category_dict ={\n",
    "    'Book Categories': get_category_name(doc),\n",
    "    'URL': get_category_url(doc)\n",
    "    }\n",
    "    return pd.DataFrame(category_dict);"
   ]
  },
  {
   "cell_type": "markdown",
   "metadata": {},
   "source": [
    "#### b. Function of scraping info of each books for each category page."
   ]
  },
  {
   "cell_type": "code",
   "execution_count": 32,
   "metadata": {},
   "outputs": [],
   "source": [
    "def book_name(tag):\n",
    "    # This function return book name fromt tag\n",
    "    span_tag = tag.find('span');\n",
    "    return span_tag.text\n",
    "\n",
    "def book_author(tag):\n",
    "    # this function return author\n",
    "    author_class = 'a-row a-size-small'\n",
    "    author_tag = tag.find(class_=author_class)\n",
    "    return author_tag.text\n",
    "\n",
    "def rating(tag):\n",
    "    # This function return the rating. It also ontain check if there is rating for a book.\n",
    "    rate_tag = tag.find(class_='a-icon-alt')\n",
    "    if rate_tag == None:\n",
    "        book_rate = 'NA'\n",
    "    else:\n",
    "        book_rate = rate_tag.text\n",
    "    return book_rate\n",
    "\n",
    "def url(tag):\n",
    "    base_url = 'https://www.amazon.in'\n",
    "    a_tag = tag.find('a')\n",
    "    return base_url + a_tag['href']\n",
    "    \n",
    "def get_book_category_info(book_tag):\n",
    "    # Describe: This function takes each tag and return info for each book\n",
    "    #Book name\n",
    "    name = book_name(book_tag);\n",
    "    #Author\n",
    "    author = book_author(book_tag);\n",
    "    #link book\n",
    "    link = url(book_tag);\n",
    "    #Rating: contain check if there is rating for a book.\n",
    "    book_rate = rating(book_tag);\n",
    "    return name,author,book_rate,link\n",
    "\n",
    "def get_category_book(book_doc):\n",
    "    #Describe: this function return the dataframe of books info\n",
    "    #Extract book name and author tags\n",
    "    book_class = 'zg-grid-general-faceout';\n",
    "    book_tags = book_doc.find_all(class_=book_class);\n",
    "    \n",
    "    #Get book info\n",
    "    book_category_dict = {\n",
    "    'Book Name' :[],\n",
    "    'Author' :[],\n",
    "    'Rating' :[],\n",
    "    'URL' :[],\n",
    "    }\n",
    "    \n",
    "    for i in range(len(book_tags)):\n",
    "        book_info = get_book_category_info(book_tags[i]);\n",
    "        book_category_dict['Book Name'].append(book_info[0]);\n",
    "        book_category_dict['Author'].append(book_info[1]);\n",
    "        book_category_dict['Rating'].append(book_info[2]);\n",
    "        book_category_dict['URL'].append(book_info[3]);\n",
    "    return pd.DataFrame(book_category_dict)\n",
    "\n",
    "def scrape_category_book(cat_url,path):\n",
    "    # this function accept the url of each category, scrape the book info and save it in specific path.\n",
    "    if os.path.exists(path):\n",
    "        print('The file {} already exists. Skipping...'.format(path))\n",
    "        return\n",
    "    book_df = get_category_book(get_category_page(cat_url))\n",
    "    book_df.to_csv(path, index = None)"
   ]
  },
  {
   "cell_type": "markdown",
   "metadata": {},
   "source": [
    "#### c. General/ Outer function of scraping the list of categores and the info of books for each category page."
   ]
  },
  {
   "cell_type": "code",
   "execution_count": 33,
   "metadata": {},
   "outputs": [],
   "source": [
    "def scrape_book_bestseller():\n",
    "    print('Scraping the top bestseller book in AMAZON:')\n",
    "    category_df = scrape_category()\n",
    "    \n",
    "    os.makedirs('data',exist_ok=True)\n",
    "    for index,row in category_df.iterrows():\n",
    "        print('Scraping the top bestsellers book for {} genre'.format(row['Book Categories']))\n",
    "        scrape_category_book(row['URL'],'data/{}.csv'.format(row['Book Categories']))"
   ]
  },
  {
   "cell_type": "markdown",
   "metadata": {},
   "source": [
    "## 5. Results"
   ]
  },
  {
   "cell_type": "markdown",
   "metadata": {},
   "source": [
    "**Check the function that scrape the list of categories:**"
   ]
  },
  {
   "cell_type": "code",
   "execution_count": 34,
   "metadata": {},
   "outputs": [
    {
     "data": {
      "text/html": [
       "<div>\n",
       "<style scoped>\n",
       "    .dataframe tbody tr th:only-of-type {\n",
       "        vertical-align: middle;\n",
       "    }\n",
       "\n",
       "    .dataframe tbody tr th {\n",
       "        vertical-align: top;\n",
       "    }\n",
       "\n",
       "    .dataframe thead th {\n",
       "        text-align: right;\n",
       "    }\n",
       "</style>\n",
       "<table border=\"1\" class=\"dataframe\">\n",
       "  <thead>\n",
       "    <tr style=\"text-align: right;\">\n",
       "      <th></th>\n",
       "      <th>Book Categories</th>\n",
       "      <th>URL</th>\n",
       "    </tr>\n",
       "  </thead>\n",
       "  <tbody>\n",
       "    <tr>\n",
       "      <th>0</th>\n",
       "      <td>Action &amp; Adventure</td>\n",
       "      <td>https://www.amazon.in/gp/bestsellers/books/131...</td>\n",
       "    </tr>\n",
       "    <tr>\n",
       "      <th>1</th>\n",
       "      <td>Arts, Film &amp; Photography</td>\n",
       "      <td>https://www.amazon.in/gp/bestsellers/books/131...</td>\n",
       "    </tr>\n",
       "    <tr>\n",
       "      <th>2</th>\n",
       "      <td>Biographies, Diaries &amp; True Accounts</td>\n",
       "      <td>https://www.amazon.in/gp/bestsellers/books/131...</td>\n",
       "    </tr>\n",
       "    <tr>\n",
       "      <th>3</th>\n",
       "      <td>Business &amp; Economics</td>\n",
       "      <td>https://www.amazon.in/gp/bestsellers/books/131...</td>\n",
       "    </tr>\n",
       "    <tr>\n",
       "      <th>4</th>\n",
       "      <td>Children's &amp; Young Adult</td>\n",
       "      <td>https://www.amazon.in/gp/bestsellers/books/131...</td>\n",
       "    </tr>\n",
       "    <tr>\n",
       "      <th>5</th>\n",
       "      <td>Comics &amp; Mangas</td>\n",
       "      <td>https://www.amazon.in/gp/bestsellers/books/131...</td>\n",
       "    </tr>\n",
       "    <tr>\n",
       "      <th>6</th>\n",
       "      <td>Computing, Internet &amp; Digital Media</td>\n",
       "      <td>https://www.amazon.in/gp/bestsellers/books/131...</td>\n",
       "    </tr>\n",
       "    <tr>\n",
       "      <th>7</th>\n",
       "      <td>Crafts, Home &amp; Lifestyle</td>\n",
       "      <td>https://www.amazon.in/gp/bestsellers/books/131...</td>\n",
       "    </tr>\n",
       "    <tr>\n",
       "      <th>8</th>\n",
       "      <td>Crime, Thriller &amp; Mystery</td>\n",
       "      <td>https://www.amazon.in/gp/bestsellers/books/131...</td>\n",
       "    </tr>\n",
       "    <tr>\n",
       "      <th>9</th>\n",
       "      <td>Engineering</td>\n",
       "      <td>https://www.amazon.in/gp/bestsellers/books/229...</td>\n",
       "    </tr>\n",
       "    <tr>\n",
       "      <th>10</th>\n",
       "      <td>Exam Preparation</td>\n",
       "      <td>https://www.amazon.in/gp/bestsellers/books/414...</td>\n",
       "    </tr>\n",
       "    <tr>\n",
       "      <th>11</th>\n",
       "      <td>Fantasy, Horror &amp; Science Fiction</td>\n",
       "      <td>https://www.amazon.in/gp/bestsellers/books/140...</td>\n",
       "    </tr>\n",
       "    <tr>\n",
       "      <th>12</th>\n",
       "      <td>Health, Family &amp; Personal Development</td>\n",
       "      <td>https://www.amazon.in/gp/bestsellers/books/131...</td>\n",
       "    </tr>\n",
       "    <tr>\n",
       "      <th>13</th>\n",
       "      <td>Health, Fitness &amp; Nutrition</td>\n",
       "      <td>https://www.amazon.in/gp/bestsellers/books/230...</td>\n",
       "    </tr>\n",
       "    <tr>\n",
       "      <th>14</th>\n",
       "      <td>Higher Education Textbooks</td>\n",
       "      <td>https://www.amazon.in/gp/bestsellers/books/414...</td>\n",
       "    </tr>\n",
       "    <tr>\n",
       "      <th>15</th>\n",
       "      <td>Historical Fiction</td>\n",
       "      <td>https://www.amazon.in/gp/bestsellers/books/131...</td>\n",
       "    </tr>\n",
       "    <tr>\n",
       "      <th>16</th>\n",
       "      <td>History</td>\n",
       "      <td>https://www.amazon.in/gp/bestsellers/books/414...</td>\n",
       "    </tr>\n",
       "    <tr>\n",
       "      <th>17</th>\n",
       "      <td>Humour</td>\n",
       "      <td>https://www.amazon.in/gp/bestsellers/books/131...</td>\n",
       "    </tr>\n",
       "    <tr>\n",
       "      <th>18</th>\n",
       "      <td>Language, Linguistics &amp; Writing</td>\n",
       "      <td>https://www.amazon.in/gp/bestsellers/books/131...</td>\n",
       "    </tr>\n",
       "    <tr>\n",
       "      <th>19</th>\n",
       "      <td>Law</td>\n",
       "      <td>https://www.amazon.in/gp/bestsellers/books/414...</td>\n",
       "    </tr>\n",
       "    <tr>\n",
       "      <th>20</th>\n",
       "      <td>Literature &amp; Fiction</td>\n",
       "      <td>https://www.amazon.in/gp/bestsellers/books/131...</td>\n",
       "    </tr>\n",
       "    <tr>\n",
       "      <th>21</th>\n",
       "      <td>Maps &amp; Atlases</td>\n",
       "      <td>https://www.amazon.in/gp/bestsellers/books/131...</td>\n",
       "    </tr>\n",
       "    <tr>\n",
       "      <th>22</th>\n",
       "      <td>Medicine &amp; Health Sciences</td>\n",
       "      <td>https://www.amazon.in/gp/bestsellers/books/414...</td>\n",
       "    </tr>\n",
       "    <tr>\n",
       "      <th>23</th>\n",
       "      <td>Politics</td>\n",
       "      <td>https://www.amazon.in/gp/bestsellers/books/131...</td>\n",
       "    </tr>\n",
       "    <tr>\n",
       "      <th>24</th>\n",
       "      <td>Reference</td>\n",
       "      <td>https://www.amazon.in/gp/bestsellers/books/131...</td>\n",
       "    </tr>\n",
       "    <tr>\n",
       "      <th>25</th>\n",
       "      <td>Religion</td>\n",
       "      <td>https://www.amazon.in/gp/bestsellers/books/131...</td>\n",
       "    </tr>\n",
       "    <tr>\n",
       "      <th>26</th>\n",
       "      <td>Romance</td>\n",
       "      <td>https://www.amazon.in/gp/bestsellers/books/131...</td>\n",
       "    </tr>\n",
       "    <tr>\n",
       "      <th>27</th>\n",
       "      <td>School Books</td>\n",
       "      <td>https://www.amazon.in/gp/bestsellers/books/414...</td>\n",
       "    </tr>\n",
       "    <tr>\n",
       "      <th>28</th>\n",
       "      <td>Science &amp; Mathematics</td>\n",
       "      <td>https://www.amazon.in/gp/bestsellers/books/414...</td>\n",
       "    </tr>\n",
       "    <tr>\n",
       "      <th>29</th>\n",
       "      <td>Sciences, Technology &amp; Medicine</td>\n",
       "      <td>https://www.amazon.in/gp/bestsellers/books/131...</td>\n",
       "    </tr>\n",
       "    <tr>\n",
       "      <th>30</th>\n",
       "      <td>Society &amp; Social Sciences</td>\n",
       "      <td>https://www.amazon.in/gp/bestsellers/books/131...</td>\n",
       "    </tr>\n",
       "    <tr>\n",
       "      <th>31</th>\n",
       "      <td>Sports</td>\n",
       "      <td>https://www.amazon.in/gp/bestsellers/books/131...</td>\n",
       "    </tr>\n",
       "    <tr>\n",
       "      <th>32</th>\n",
       "      <td>Textbooks &amp; Study Guides</td>\n",
       "      <td>https://www.amazon.in/gp/bestsellers/books/154...</td>\n",
       "    </tr>\n",
       "    <tr>\n",
       "      <th>33</th>\n",
       "      <td>Travel</td>\n",
       "      <td>https://www.amazon.in/gp/bestsellers/books/131...</td>\n",
       "    </tr>\n",
       "  </tbody>\n",
       "</table>\n",
       "</div>"
      ],
      "text/plain": [
       "                          Book Categories  \\\n",
       "0                      Action & Adventure   \n",
       "1                Arts, Film & Photography   \n",
       "2    Biographies, Diaries & True Accounts   \n",
       "3                    Business & Economics   \n",
       "4                Children's & Young Adult   \n",
       "5                         Comics & Mangas   \n",
       "6     Computing, Internet & Digital Media   \n",
       "7                Crafts, Home & Lifestyle   \n",
       "8               Crime, Thriller & Mystery   \n",
       "9                             Engineering   \n",
       "10                       Exam Preparation   \n",
       "11      Fantasy, Horror & Science Fiction   \n",
       "12  Health, Family & Personal Development   \n",
       "13            Health, Fitness & Nutrition   \n",
       "14             Higher Education Textbooks   \n",
       "15                     Historical Fiction   \n",
       "16                                History   \n",
       "17                                 Humour   \n",
       "18        Language, Linguistics & Writing   \n",
       "19                                    Law   \n",
       "20                   Literature & Fiction   \n",
       "21                         Maps & Atlases   \n",
       "22             Medicine & Health Sciences   \n",
       "23                               Politics   \n",
       "24                              Reference   \n",
       "25                               Religion   \n",
       "26                                Romance   \n",
       "27                           School Books   \n",
       "28                  Science & Mathematics   \n",
       "29        Sciences, Technology & Medicine   \n",
       "30              Society & Social Sciences   \n",
       "31                                 Sports   \n",
       "32               Textbooks & Study Guides   \n",
       "33                                 Travel   \n",
       "\n",
       "                                                  URL  \n",
       "0   https://www.amazon.in/gp/bestsellers/books/131...  \n",
       "1   https://www.amazon.in/gp/bestsellers/books/131...  \n",
       "2   https://www.amazon.in/gp/bestsellers/books/131...  \n",
       "3   https://www.amazon.in/gp/bestsellers/books/131...  \n",
       "4   https://www.amazon.in/gp/bestsellers/books/131...  \n",
       "5   https://www.amazon.in/gp/bestsellers/books/131...  \n",
       "6   https://www.amazon.in/gp/bestsellers/books/131...  \n",
       "7   https://www.amazon.in/gp/bestsellers/books/131...  \n",
       "8   https://www.amazon.in/gp/bestsellers/books/131...  \n",
       "9   https://www.amazon.in/gp/bestsellers/books/229...  \n",
       "10  https://www.amazon.in/gp/bestsellers/books/414...  \n",
       "11  https://www.amazon.in/gp/bestsellers/books/140...  \n",
       "12  https://www.amazon.in/gp/bestsellers/books/131...  \n",
       "13  https://www.amazon.in/gp/bestsellers/books/230...  \n",
       "14  https://www.amazon.in/gp/bestsellers/books/414...  \n",
       "15  https://www.amazon.in/gp/bestsellers/books/131...  \n",
       "16  https://www.amazon.in/gp/bestsellers/books/414...  \n",
       "17  https://www.amazon.in/gp/bestsellers/books/131...  \n",
       "18  https://www.amazon.in/gp/bestsellers/books/131...  \n",
       "19  https://www.amazon.in/gp/bestsellers/books/414...  \n",
       "20  https://www.amazon.in/gp/bestsellers/books/131...  \n",
       "21  https://www.amazon.in/gp/bestsellers/books/131...  \n",
       "22  https://www.amazon.in/gp/bestsellers/books/414...  \n",
       "23  https://www.amazon.in/gp/bestsellers/books/131...  \n",
       "24  https://www.amazon.in/gp/bestsellers/books/131...  \n",
       "25  https://www.amazon.in/gp/bestsellers/books/131...  \n",
       "26  https://www.amazon.in/gp/bestsellers/books/131...  \n",
       "27  https://www.amazon.in/gp/bestsellers/books/414...  \n",
       "28  https://www.amazon.in/gp/bestsellers/books/414...  \n",
       "29  https://www.amazon.in/gp/bestsellers/books/131...  \n",
       "30  https://www.amazon.in/gp/bestsellers/books/131...  \n",
       "31  https://www.amazon.in/gp/bestsellers/books/131...  \n",
       "32  https://www.amazon.in/gp/bestsellers/books/154...  \n",
       "33  https://www.amazon.in/gp/bestsellers/books/131...  "
      ]
     },
     "execution_count": 34,
     "metadata": {},
     "output_type": "execute_result"
    }
   ],
   "source": [
    "scrape_category()"
   ]
  },
  {
   "cell_type": "markdown",
   "metadata": {},
   "source": [
    "**Check the final/outer code that scrape the bestseller books for each category and save it in csv file.**"
   ]
  },
  {
   "cell_type": "code",
   "execution_count": 35,
   "metadata": {},
   "outputs": [
    {
     "name": "stdout",
     "output_type": "stream",
     "text": [
      "Scraping the top bestseller book in AMAZON:\n",
      "Scraping the top bestsellers book for Action & Adventure genre\n",
      "Scraping the top bestsellers book for Arts, Film & Photography genre\n",
      "Scraping the top bestsellers book for Biographies, Diaries & True Accounts genre\n",
      "Scraping the top bestsellers book for Business & Economics genre\n",
      "Scraping the top bestsellers book for Children's & Young Adult genre\n",
      "Scraping the top bestsellers book for Comics & Mangas genre\n",
      "Scraping the top bestsellers book for Computing, Internet & Digital Media genre\n",
      "Scraping the top bestsellers book for Crafts, Home & Lifestyle genre\n",
      "Scraping the top bestsellers book for Crime, Thriller & Mystery genre\n",
      "Scraping the top bestsellers book for Engineering genre\n",
      "Scraping the top bestsellers book for Exam Preparation genre\n",
      "Scraping the top bestsellers book for Fantasy, Horror & Science Fiction genre\n",
      "Scraping the top bestsellers book for Health, Family & Personal Development genre\n",
      "Scraping the top bestsellers book for Health, Fitness & Nutrition genre\n",
      "Scraping the top bestsellers book for Higher Education Textbooks genre\n",
      "Scraping the top bestsellers book for Historical Fiction genre\n",
      "Scraping the top bestsellers book for History genre\n",
      "Scraping the top bestsellers book for Humour genre\n",
      "Scraping the top bestsellers book for Language, Linguistics & Writing genre\n",
      "Scraping the top bestsellers book for Law genre\n",
      "Scraping the top bestsellers book for Literature & Fiction genre\n",
      "Scraping the top bestsellers book for Maps & Atlases genre\n",
      "Scraping the top bestsellers book for Medicine & Health Sciences genre\n",
      "Scraping the top bestsellers book for Politics genre\n",
      "Scraping the top bestsellers book for Reference genre\n",
      "Scraping the top bestsellers book for Religion genre\n",
      "Scraping the top bestsellers book for Romance genre\n",
      "Scraping the top bestsellers book for School Books genre\n",
      "Scraping the top bestsellers book for Science & Mathematics genre\n",
      "Scraping the top bestsellers book for Sciences, Technology & Medicine genre\n",
      "Scraping the top bestsellers book for Society & Social Sciences genre\n",
      "Scraping the top bestsellers book for Sports genre\n",
      "Scraping the top bestsellers book for Textbooks & Study Guides genre\n",
      "Scraping the top bestsellers book for Travel genre\n"
     ]
    }
   ],
   "source": [
    "scrape_book_bestseller()"
   ]
  },
  {
   "cell_type": "markdown",
   "metadata": {},
   "source": [
    "**Comment:** There are several errors with loading the website. When running again, the code will check if the csv file exits. If so, it will skipp that category and move to the next category. The code work well and seems to scrape all categories. Let check csv files for some categories."
   ]
  },
  {
   "cell_type": "markdown",
   "metadata": {},
   "source": [
    "**History genre:**"
   ]
  },
  {
   "cell_type": "code",
   "execution_count": 36,
   "metadata": {},
   "outputs": [
    {
     "data": {
      "text/html": [
       "<div>\n",
       "<style scoped>\n",
       "    .dataframe tbody tr th:only-of-type {\n",
       "        vertical-align: middle;\n",
       "    }\n",
       "\n",
       "    .dataframe tbody tr th {\n",
       "        vertical-align: top;\n",
       "    }\n",
       "\n",
       "    .dataframe thead th {\n",
       "        text-align: right;\n",
       "    }\n",
       "</style>\n",
       "<table border=\"1\" class=\"dataframe\">\n",
       "  <thead>\n",
       "    <tr style=\"text-align: right;\">\n",
       "      <th></th>\n",
       "      <th>Book Name</th>\n",
       "      <th>Author</th>\n",
       "      <th>Rating</th>\n",
       "      <th>URL</th>\n",
       "    </tr>\n",
       "  </thead>\n",
       "  <tbody>\n",
       "    <tr>\n",
       "      <th>0</th>\n",
       "      <td>My Journey: Transforming Dreams into Actions</td>\n",
       "      <td>A.P.J. Abdul Kalam</td>\n",
       "      <td>4.7 out of 5 stars</td>\n",
       "      <td>https://www.amazon.in/My-Journey-Transforming-...</td>\n",
       "    </tr>\n",
       "    <tr>\n",
       "      <th>1</th>\n",
       "      <td>Animals Tales From Panchtantra: Timeless Stori...</td>\n",
       "      <td>Wonder House Books</td>\n",
       "      <td>4.5 out of 5 stars</td>\n",
       "      <td>https://www.amazon.in/Animals-Tales-Panchtantr...</td>\n",
       "    </tr>\n",
       "    <tr>\n",
       "      <th>2</th>\n",
       "      <td>TINKLE DIGEST 1</td>\n",
       "      <td>ANANT PAI</td>\n",
       "      <td>4.2 out of 5 stars</td>\n",
       "      <td>https://www.amazon.in/TINKLE-DIGEST-1-ANANT-PA...</td>\n",
       "    </tr>\n",
       "    <tr>\n",
       "      <th>3</th>\n",
       "      <td>101 Panchatantra Stories for Children: Colourf...</td>\n",
       "      <td>Om Books Editorial Team</td>\n",
       "      <td>4.5 out of 5 stars</td>\n",
       "      <td>https://www.amazon.in/101-Panchatantra-Stories...</td>\n",
       "    </tr>\n",
       "    <tr>\n",
       "      <th>4</th>\n",
       "      <td>Sapiens</td>\n",
       "      <td>Yuval Noah Harari</td>\n",
       "      <td>4.7 out of 5 stars</td>\n",
       "      <td>https://www.amazon.in/Sapiens/dp/B079C1B3H6/re...</td>\n",
       "    </tr>\n",
       "    <tr>\n",
       "      <th>5</th>\n",
       "      <td>WINGS OF FIRE: AUTOBIOGRAPHY OF ABDUL KALAM</td>\n",
       "      <td>Arun Tiwari</td>\n",
       "      <td>4.6 out of 5 stars</td>\n",
       "      <td>https://www.amazon.in/Wings-Fire-Autobiography...</td>\n",
       "    </tr>\n",
       "    <tr>\n",
       "      <th>6</th>\n",
       "      <td>Man's Search For Meaning: The classic tribute ...</td>\n",
       "      <td>Viktor E Frankl</td>\n",
       "      <td>4.5 out of 5 stars</td>\n",
       "      <td>https://www.amazon.in/Mans-Search-Meaning-Vikt...</td>\n",
       "    </tr>\n",
       "    <tr>\n",
       "      <th>7</th>\n",
       "      <td>Autobiography of a Yogi</td>\n",
       "      <td>Paramahansa Yogananda</td>\n",
       "      <td>4.6 out of 5 stars</td>\n",
       "      <td>https://www.amazon.in/Autobiography-Yogi-Param...</td>\n",
       "    </tr>\n",
       "    <tr>\n",
       "      <th>8</th>\n",
       "      <td>Three Thousand Stitches: Ordinary People, Extr...</td>\n",
       "      <td>Sudha Murty</td>\n",
       "      <td>4.6 out of 5 stars</td>\n",
       "      <td>https://www.amazon.in/Three-Thousand-Stitches-...</td>\n",
       "    </tr>\n",
       "    <tr>\n",
       "      <th>9</th>\n",
       "      <td>The Theory Of Everything</td>\n",
       "      <td>Stephen Hawking</td>\n",
       "      <td>4.6 out of 5 stars</td>\n",
       "      <td>https://www.amazon.in/Theory-Everything-Stephe...</td>\n",
       "    </tr>\n",
       "  </tbody>\n",
       "</table>\n",
       "</div>"
      ],
      "text/plain": [
       "                                           Book Name                   Author  \\\n",
       "0       My Journey: Transforming Dreams into Actions       A.P.J. Abdul Kalam   \n",
       "1  Animals Tales From Panchtantra: Timeless Stori...       Wonder House Books   \n",
       "2                                    TINKLE DIGEST 1                ANANT PAI   \n",
       "3  101 Panchatantra Stories for Children: Colourf...  Om Books Editorial Team   \n",
       "4                                            Sapiens        Yuval Noah Harari   \n",
       "5        WINGS OF FIRE: AUTOBIOGRAPHY OF ABDUL KALAM              Arun Tiwari   \n",
       "6  Man's Search For Meaning: The classic tribute ...          Viktor E Frankl   \n",
       "7                            Autobiography of a Yogi    Paramahansa Yogananda   \n",
       "8  Three Thousand Stitches: Ordinary People, Extr...              Sudha Murty   \n",
       "9                           The Theory Of Everything          Stephen Hawking   \n",
       "\n",
       "               Rating                                                URL  \n",
       "0  4.7 out of 5 stars  https://www.amazon.in/My-Journey-Transforming-...  \n",
       "1  4.5 out of 5 stars  https://www.amazon.in/Animals-Tales-Panchtantr...  \n",
       "2  4.2 out of 5 stars  https://www.amazon.in/TINKLE-DIGEST-1-ANANT-PA...  \n",
       "3  4.5 out of 5 stars  https://www.amazon.in/101-Panchatantra-Stories...  \n",
       "4  4.7 out of 5 stars  https://www.amazon.in/Sapiens/dp/B079C1B3H6/re...  \n",
       "5  4.6 out of 5 stars  https://www.amazon.in/Wings-Fire-Autobiography...  \n",
       "6  4.5 out of 5 stars  https://www.amazon.in/Mans-Search-Meaning-Vikt...  \n",
       "7  4.6 out of 5 stars  https://www.amazon.in/Autobiography-Yogi-Param...  \n",
       "8  4.6 out of 5 stars  https://www.amazon.in/Three-Thousand-Stitches-...  \n",
       "9  4.6 out of 5 stars  https://www.amazon.in/Theory-Everything-Stephe...  "
      ]
     },
     "execution_count": 36,
     "metadata": {},
     "output_type": "execute_result"
    }
   ],
   "source": [
    "# Display top 10 bestseller books in history genre\n",
    "history_df = pd.read_csv('./data/History.csv');\n",
    "history_df[:10]"
   ]
  },
  {
   "cell_type": "markdown",
   "metadata": {},
   "source": [
    "**Romance genre:**"
   ]
  },
  {
   "cell_type": "code",
   "execution_count": 37,
   "metadata": {},
   "outputs": [
    {
     "data": {
      "text/html": [
       "<div>\n",
       "<style scoped>\n",
       "    .dataframe tbody tr th:only-of-type {\n",
       "        vertical-align: middle;\n",
       "    }\n",
       "\n",
       "    .dataframe tbody tr th {\n",
       "        vertical-align: top;\n",
       "    }\n",
       "\n",
       "    .dataframe thead th {\n",
       "        text-align: right;\n",
       "    }\n",
       "</style>\n",
       "<table border=\"1\" class=\"dataframe\">\n",
       "  <thead>\n",
       "    <tr style=\"text-align: right;\">\n",
       "      <th></th>\n",
       "      <th>Book Name</th>\n",
       "      <th>Author</th>\n",
       "      <th>Rating</th>\n",
       "      <th>URL</th>\n",
       "    </tr>\n",
       "  </thead>\n",
       "  <tbody>\n",
       "    <tr>\n",
       "      <th>0</th>\n",
       "      <td>இராவணனா? காவலனா? (Tamil Edition)</td>\n",
       "      <td>SANAGEETH NOVELS</td>\n",
       "      <td>4.3 out of 5 stars</td>\n",
       "      <td>https://www.amazon.in/%E0%AE%87%E0%AE%B0%E0%AE...</td>\n",
       "    </tr>\n",
       "    <tr>\n",
       "      <th>1</th>\n",
       "      <td>காதலாற்றுப்படை : Kathalaachupadai (Tamil Edition)</td>\n",
       "      <td>சுஜா சந்திரன்</td>\n",
       "      <td>4.5 out of 5 stars</td>\n",
       "      <td>https://www.amazon.in/%E0%AE%95%E0%AE%BE%E0%AE...</td>\n",
       "    </tr>\n",
       "    <tr>\n",
       "      <th>2</th>\n",
       "      <td>தந்தியில்லா வீணை (Tamil Edition)</td>\n",
       "      <td>வியனி நாதன்</td>\n",
       "      <td>4.3 out of 5 stars</td>\n",
       "      <td>https://www.amazon.in/%E0%AE%A4%E0%AE%A8%E0%AF...</td>\n",
       "    </tr>\n",
       "    <tr>\n",
       "      <th>3</th>\n",
       "      <td>It Ends With Us: A Novel: Volume 1</td>\n",
       "      <td>Colleen Hoover</td>\n",
       "      <td>4.5 out of 5 stars</td>\n",
       "      <td>https://www.amazon.in/Ends-Us-Novel-Colleen-Ho...</td>\n",
       "    </tr>\n",
       "    <tr>\n",
       "      <th>4</th>\n",
       "      <td>சண்டமாருதத்தின் காதல் மலரிவள்...! (Tamil Edition)</td>\n",
       "      <td>சர ணிகா</td>\n",
       "      <td>4.1 out of 5 stars</td>\n",
       "      <td>https://www.amazon.in/%E0%AE%9A%E0%AE%A3%E0%AF...</td>\n",
       "    </tr>\n",
       "    <tr>\n",
       "      <th>5</th>\n",
       "      <td>மோகத்தை வென்றவளே….!! Mohaththai vendravaley..!...</td>\n",
       "      <td>Sri vinitha  ஸ்ரீ வினிதா</td>\n",
       "      <td>4.2 out of 5 stars</td>\n",
       "      <td>https://www.amazon.in/%E0%AE%AE%E0%AF%8B%E0%AE...</td>\n",
       "    </tr>\n",
       "    <tr>\n",
       "      <th>6</th>\n",
       "      <td>வசியம் வைத்தேன் வந்து விடு: Vasiyam Vaithen Va...</td>\n",
       "      <td>Surya Saravanan</td>\n",
       "      <td>4.7 out of 5 stars</td>\n",
       "      <td>https://www.amazon.in/%E0%AE%B5%E0%AE%9A%E0%AE...</td>\n",
       "    </tr>\n",
       "    <tr>\n",
       "      <th>7</th>\n",
       "      <td>காதல் ரதியே!ரதியே!-Kadhal Rathiye!Rathiye! (Ta...</td>\n",
       "      <td>AHILA ISAAC</td>\n",
       "      <td>4.2 out of 5 stars</td>\n",
       "      <td>https://www.amazon.in/%E0%AE%95%E0%AE%BE%E0%AE...</td>\n",
       "    </tr>\n",
       "    <tr>\n",
       "      <th>8</th>\n",
       "      <td>என்னையே தந்தேன் உனக்காக!!!: Ennaiye thanthen u...</td>\n",
       "      <td>ஆத்விகா பொம்மு (Aadvika Pommu)</td>\n",
       "      <td>4.5 out of 5 stars</td>\n",
       "      <td>https://www.amazon.in/%E0%AE%8E%E0%AE%A9%E0%AF...</td>\n",
       "    </tr>\n",
       "    <tr>\n",
       "      <th>9</th>\n",
       "      <td>பாடவா.. புதுப்பாடலை..: Padava Pudhupadalai (Ta...</td>\n",
       "      <td>முத்துலட்சுமி ராகவன்  Muthulakshmi Raghavan</td>\n",
       "      <td>3.3 out of 5 stars</td>\n",
       "      <td>https://www.amazon.in/%E0%AE%AA%E0%AE%BE%E0%AE...</td>\n",
       "    </tr>\n",
       "  </tbody>\n",
       "</table>\n",
       "</div>"
      ],
      "text/plain": [
       "                                           Book Name  \\\n",
       "0                   இராவணனா? காவலனா? (Tamil Edition)   \n",
       "1  காதலாற்றுப்படை : Kathalaachupadai (Tamil Edition)   \n",
       "2                   தந்தியில்லா வீணை (Tamil Edition)   \n",
       "3                 It Ends With Us: A Novel: Volume 1   \n",
       "4  சண்டமாருதத்தின் காதல் மலரிவள்...! (Tamil Edition)   \n",
       "5  மோகத்தை வென்றவளே….!! Mohaththai vendravaley..!...   \n",
       "6  வசியம் வைத்தேன் வந்து விடு: Vasiyam Vaithen Va...   \n",
       "7  காதல் ரதியே!ரதியே!-Kadhal Rathiye!Rathiye! (Ta...   \n",
       "8  என்னையே தந்தேன் உனக்காக!!!: Ennaiye thanthen u...   \n",
       "9  பாடவா.. புதுப்பாடலை..: Padava Pudhupadalai (Ta...   \n",
       "\n",
       "                                        Author              Rating  \\\n",
       "0                             SANAGEETH NOVELS  4.3 out of 5 stars   \n",
       "1                                சுஜா சந்திரன்  4.5 out of 5 stars   \n",
       "2                                 வியனி நாதன்   4.3 out of 5 stars   \n",
       "3                               Colleen Hoover  4.5 out of 5 stars   \n",
       "4                                      சர ணிகா  4.1 out of 5 stars   \n",
       "5                    Sri vinitha  ஸ்ரீ வினிதா   4.2 out of 5 stars   \n",
       "6                              Surya Saravanan  4.7 out of 5 stars   \n",
       "7                                  AHILA ISAAC  4.2 out of 5 stars   \n",
       "8               ஆத்விகா பொம்மு (Aadvika Pommu)  4.5 out of 5 stars   \n",
       "9  முத்துலட்சுமி ராகவன்  Muthulakshmi Raghavan  3.3 out of 5 stars   \n",
       "\n",
       "                                                 URL  \n",
       "0  https://www.amazon.in/%E0%AE%87%E0%AE%B0%E0%AE...  \n",
       "1  https://www.amazon.in/%E0%AE%95%E0%AE%BE%E0%AE...  \n",
       "2  https://www.amazon.in/%E0%AE%A4%E0%AE%A8%E0%AF...  \n",
       "3  https://www.amazon.in/Ends-Us-Novel-Colleen-Ho...  \n",
       "4  https://www.amazon.in/%E0%AE%9A%E0%AE%A3%E0%AF...  \n",
       "5  https://www.amazon.in/%E0%AE%AE%E0%AF%8B%E0%AE...  \n",
       "6  https://www.amazon.in/%E0%AE%B5%E0%AE%9A%E0%AE...  \n",
       "7  https://www.amazon.in/%E0%AE%95%E0%AE%BE%E0%AE...  \n",
       "8  https://www.amazon.in/%E0%AE%8E%E0%AE%A9%E0%AF...  \n",
       "9  https://www.amazon.in/%E0%AE%AA%E0%AE%BE%E0%AE...  "
      ]
     },
     "execution_count": 37,
     "metadata": {},
     "output_type": "execute_result"
    }
   ],
   "source": [
    "# Display top 10 bestseller books in romance genre\n",
    "romance_df = pd.read_csv('./data/Romance.csv');\n",
    "romance_df[:10]"
   ]
  },
  {
   "cell_type": "markdown",
   "metadata": {},
   "source": [
    "**Travel genre:**"
   ]
  },
  {
   "cell_type": "code",
   "execution_count": 38,
   "metadata": {},
   "outputs": [
    {
     "data": {
      "text/html": [
       "<div>\n",
       "<style scoped>\n",
       "    .dataframe tbody tr th:only-of-type {\n",
       "        vertical-align: middle;\n",
       "    }\n",
       "\n",
       "    .dataframe tbody tr th {\n",
       "        vertical-align: top;\n",
       "    }\n",
       "\n",
       "    .dataframe thead th {\n",
       "        text-align: right;\n",
       "    }\n",
       "</style>\n",
       "<table border=\"1\" class=\"dataframe\">\n",
       "  <thead>\n",
       "    <tr style=\"text-align: right;\">\n",
       "      <th></th>\n",
       "      <th>Book Name</th>\n",
       "      <th>Author</th>\n",
       "      <th>Rating</th>\n",
       "      <th>URL</th>\n",
       "    </tr>\n",
       "  </thead>\n",
       "  <tbody>\n",
       "    <tr>\n",
       "      <th>0</th>\n",
       "      <td>World Map - Laminated Both Sides</td>\n",
       "      <td>Dreamland Publications</td>\n",
       "      <td>4.3 out of 5 stars</td>\n",
       "      <td>https://www.amazon.in/World-Map-Dreamland-Publ...</td>\n",
       "    </tr>\n",
       "    <tr>\n",
       "      <th>1</th>\n",
       "      <td>Mandala: Colouring Books for Adults with Tear ...</td>\n",
       "      <td>Wonder House Books</td>\n",
       "      <td>4.5 out of 5 stars</td>\n",
       "      <td>https://www.amazon.in/Mandala-Colouring-Books-...</td>\n",
       "    </tr>\n",
       "    <tr>\n",
       "      <th>2</th>\n",
       "      <td>Colouring Books Super Boxset: Pack of 6 Crayon...</td>\n",
       "      <td>Wonder House Books</td>\n",
       "      <td>4.4 out of 5 stars</td>\n",
       "      <td>https://www.amazon.in/Colouring-Books-Creative...</td>\n",
       "    </tr>\n",
       "    <tr>\n",
       "      <th>3</th>\n",
       "      <td>India Map (Laminated Both Sides ) - With New U...</td>\n",
       "      <td>Dreamland Publications</td>\n",
       "      <td>4.4 out of 5 stars</td>\n",
       "      <td>https://www.amazon.in/India-Map-Dreamland-Publ...</td>\n",
       "    </tr>\n",
       "    <tr>\n",
       "      <th>4</th>\n",
       "      <td>Masala Lab: The Science of Indian Cooking: The...</td>\n",
       "      <td>Krish Ashok</td>\n",
       "      <td>4.5 out of 5 stars</td>\n",
       "      <td>https://www.amazon.in/Masala-Lab-Science-India...</td>\n",
       "    </tr>\n",
       "    <tr>\n",
       "      <th>5</th>\n",
       "      <td>I Wish I Could Tell Her (Order now to get a si...</td>\n",
       "      <td>Ajay K Pandey</td>\n",
       "      <td>4.8 out of 5 stars</td>\n",
       "      <td>https://www.amazon.in/Wish-Could-Tell-Order-si...</td>\n",
       "    </tr>\n",
       "    <tr>\n",
       "      <th>6</th>\n",
       "      <td>Zen: The Art of Simple Living</td>\n",
       "      <td>Shunmyo Masuno</td>\n",
       "      <td>4.6 out of 5 stars</td>\n",
       "      <td>https://www.amazon.in/Zen-Simple-Living-Shunmy...</td>\n",
       "    </tr>\n",
       "    <tr>\n",
       "      <th>7</th>\n",
       "      <td>Bruised Passports : Travelling the World as Di...</td>\n",
       "      <td>Savi Munjal</td>\n",
       "      <td>4.2 out of 5 stars</td>\n",
       "      <td>https://www.amazon.in/Bruised-Passports-Travel...</td>\n",
       "    </tr>\n",
       "    <tr>\n",
       "      <th>8</th>\n",
       "      <td>Penguin Random House Normal People: One millio...</td>\n",
       "      <td>Sally Rooney</td>\n",
       "      <td>4.2 out of 5 stars</td>\n",
       "      <td>https://www.amazon.in/Normal-People-Sally-Roon...</td>\n",
       "    </tr>\n",
       "    <tr>\n",
       "      <th>9</th>\n",
       "      <td>Journey Continues: A Sequel To Apprenticed To ...</td>\n",
       "      <td>M. Sri</td>\n",
       "      <td>4.8 out of 5 stars</td>\n",
       "      <td>https://www.amazon.in/Journey-Continues-Sequel...</td>\n",
       "    </tr>\n",
       "  </tbody>\n",
       "</table>\n",
       "</div>"
      ],
      "text/plain": [
       "                                           Book Name                  Author  \\\n",
       "0                   World Map - Laminated Both Sides  Dreamland Publications   \n",
       "1  Mandala: Colouring Books for Adults with Tear ...      Wonder House Books   \n",
       "2  Colouring Books Super Boxset: Pack of 6 Crayon...      Wonder House Books   \n",
       "3  India Map (Laminated Both Sides ) - With New U...  Dreamland Publications   \n",
       "4  Masala Lab: The Science of Indian Cooking: The...             Krish Ashok   \n",
       "5  I Wish I Could Tell Her (Order now to get a si...           Ajay K Pandey   \n",
       "6                      Zen: The Art of Simple Living          Shunmyo Masuno   \n",
       "7  Bruised Passports : Travelling the World as Di...             Savi Munjal   \n",
       "8  Penguin Random House Normal People: One millio...            Sally Rooney   \n",
       "9  Journey Continues: A Sequel To Apprenticed To ...                  M. Sri   \n",
       "\n",
       "               Rating                                                URL  \n",
       "0  4.3 out of 5 stars  https://www.amazon.in/World-Map-Dreamland-Publ...  \n",
       "1  4.5 out of 5 stars  https://www.amazon.in/Mandala-Colouring-Books-...  \n",
       "2  4.4 out of 5 stars  https://www.amazon.in/Colouring-Books-Creative...  \n",
       "3  4.4 out of 5 stars  https://www.amazon.in/India-Map-Dreamland-Publ...  \n",
       "4  4.5 out of 5 stars  https://www.amazon.in/Masala-Lab-Science-India...  \n",
       "5  4.8 out of 5 stars  https://www.amazon.in/Wish-Could-Tell-Order-si...  \n",
       "6  4.6 out of 5 stars  https://www.amazon.in/Zen-Simple-Living-Shunmy...  \n",
       "7  4.2 out of 5 stars  https://www.amazon.in/Bruised-Passports-Travel...  \n",
       "8  4.2 out of 5 stars  https://www.amazon.in/Normal-People-Sally-Roon...  \n",
       "9  4.8 out of 5 stars  https://www.amazon.in/Journey-Continues-Sequel...  "
      ]
     },
     "execution_count": 38,
     "metadata": {},
     "output_type": "execute_result"
    }
   ],
   "source": [
    "# Display top 10 bestseller books in travel genre\n",
    "travel_df = pd.read_csv('./data/Travel.csv');\n",
    "travel_df[:10]"
   ]
  },
  {
   "cell_type": "markdown",
   "metadata": {},
   "source": [
    "**Saving Notebook:**"
   ]
  },
  {
   "cell_type": "code",
   "execution_count": 39,
   "metadata": {},
   "outputs": [],
   "source": [
    "import jovian"
   ]
  },
  {
   "cell_type": "code",
   "execution_count": 40,
   "metadata": {},
   "outputs": [
    {
     "data": {
      "application/javascript": [
       "window.require && require([\"base/js/namespace\"],function(Jupyter){Jupyter.notebook.save_checkpoint()})"
      ],
      "text/plain": [
       "<IPython.core.display.Javascript object>"
      ]
     },
     "metadata": {},
     "output_type": "display_data"
    },
    {
     "name": "stdout",
     "output_type": "stream",
     "text": [
      "[jovian] Updating notebook \"tylerdnguyen94/scraping-amazon-bestseller-books-official\" on https://jovian.ai\u001b[0m\n",
      "[jovian] Committed successfully! https://jovian.ai/tylerdnguyen94/scraping-amazon-bestseller-books-official\u001b[0m\n"
     ]
    },
    {
     "data": {
      "text/plain": [
       "'https://jovian.ai/tylerdnguyen94/scraping-amazon-bestseller-books-official'"
      ]
     },
     "execution_count": 40,
     "metadata": {},
     "output_type": "execute_result"
    }
   ],
   "source": [
    "jovian.commit()"
   ]
  },
  {
   "cell_type": "markdown",
   "metadata": {},
   "source": [
    "## 7. Summary"
   ]
  },
  {
   "cell_type": "markdown",
   "metadata": {},
   "source": [
    "Here is what we've covered in this notebook:\n",
    "1. Download the bestseller book website of Amazon using `requests`.\n",
    "2. Parse the HTML source code using beautiful soup.\n",
    "3. Extract the name and URL of each category page in form of data frame.\n",
    "4. For each book category:\n",
    "    - Parse the HTML source code for each category page URL using beautiful soup.\n",
    "    - Extract name, author, rating, and URL of each bestseller book.\n",
    "    - Compile the information into a dictionary.\n",
    "    - Return the list of books with informations: name, author...\n",
    "5. For each category/ genre, we save the data frame into a separate csv file, and named with category.\n",
    "6. During the running, there will be error with loading the website. To avoid create duplicate csv file, a checkpoint is created to check if the csv file of a category exists. If so, that category will be skipped.\n",
    "7. To facilitate organizing csv file, a folder is created to contain all csv files of each genre."
   ]
  },
  {
   "cell_type": "markdown",
   "metadata": {},
   "source": [
    "## 8. Future Work"
   ]
  },
  {
   "cell_type": "markdown",
   "metadata": {},
   "source": [
    "- One of the future work is convert the rating into numbers so that we could manipulate the data. For example, we can find the maximum or minimum rating, and find some statistic information.\n",
    "- Moreover, we could extract the number of the reviews and relate to the rating star. For example, if the rating is 4.9/5 but there are few reviews, it will not be reliable."
   ]
  },
  {
   "cell_type": "markdown",
   "metadata": {},
   "source": [
    "## 9. Reference"
   ]
  },
  {
   "cell_type": "markdown",
   "metadata": {},
   "source": [
    "**Refernce:**"
   ]
  },
  {
   "cell_type": "markdown",
   "metadata": {},
   "source": [
    "https://jovian.ai/learn/zero-to-data-analyst-bootcamp/assignment/project-web-scraping-with-python"
   ]
  },
  {
   "cell_type": "markdown",
   "metadata": {},
   "source": [
    "**Final Saving Notebook:**"
   ]
  },
  {
   "cell_type": "code",
   "execution_count": null,
   "metadata": {},
   "outputs": [
    {
     "data": {
      "application/javascript": [
       "window.require && require([\"base/js/namespace\"],function(Jupyter){Jupyter.notebook.save_checkpoint()})"
      ],
      "text/plain": [
       "<IPython.core.display.Javascript object>"
      ]
     },
     "metadata": {},
     "output_type": "display_data"
    }
   ],
   "source": [
    "jovian.commit(files=['./data'])"
   ]
  },
  {
   "cell_type": "code",
   "execution_count": null,
   "metadata": {},
   "outputs": [],
   "source": []
  }
 ],
 "metadata": {
  "language_info": {
   "codemirror_mode": {
    "name": "ipython",
    "version": 3
   },
   "file_extension": ".py",
   "mimetype": "text/x-python",
   "name": "python",
   "nbconvert_exporter": "python",
   "pygments_lexer": "ipython3",
   "version": "3.9.6"
  }
 },
 "nbformat": 4,
 "nbformat_minor": 2
}